{
  "cells": [
    {
      "cell_type": "markdown",
      "id": "f0b7b965",
      "metadata": {
        "id": "f0b7b965"
      },
      "source": [
        "# Лабораторная работа №2. Визуализация данных.\n",
        "## Выполнил Коршиков Владислав Игоревич, группа 6133-010402D"
      ]
    },
    {
      "cell_type": "code",
      "source": [
        "# Подключаемся к Google Диск\n",
        "from google.colab import drive\n",
        "drive.mount(\"/content/drive\")"
      ],
      "metadata": {
        "colab": {
          "base_uri": "https://localhost:8080/"
        },
        "id": "B1r8C8UvB6Xh",
        "outputId": "3e8774a3-0a72-4cfe-c654-6e93f6bc16e4"
      },
      "id": "B1r8C8UvB6Xh",
      "execution_count": 79,
      "outputs": [
        {
          "output_type": "stream",
          "name": "stdout",
          "text": [
            "Drive already mounted at /content/drive; to attempt to forcibly remount, call drive.mount(\"/content/drive\", force_remount=True).\n"
          ]
        }
      ]
    },
    {
      "cell_type": "code",
      "execution_count": 80,
      "id": "02ad4b76-02c3-4778-95c3-eec40ac0b8ad",
      "metadata": {
        "tags": [],
        "id": "02ad4b76-02c3-4778-95c3-eec40ac0b8ad"
      },
      "outputs": [],
      "source": [
        "# Импортируем необходимые библиотеки\n",
        "import pandas as pd\n",
        "import numpy as np\n",
        "import matplotlib.pyplot as plt\n",
        "import seaborn as sns\n",
        "from sklearn.model_selection import train_test_split"
      ]
    },
    {
      "cell_type": "markdown",
      "id": "48ea23a5",
      "metadata": {
        "id": "48ea23a5"
      },
      "source": [
        "Для данной лабораторной работы использовался DataFrame, содержащий все машины из Gran Turismo 6: https://www.kaggle.com/prasertk/gran-turismo-6-cars/version/1\n",
        "\n",
        "Категориальные: car_type, drive\n",
        "\n",
        "Числовые: price, hp, weight, torque"
      ]
    },
    {
      "cell_type": "code",
      "source": [
        "# Загрузим датафрейм и удалим строчки с пустующими значениями\n",
        "gran_turismo_a = pd.read_csv(\"/content/drive/MyDrive/gran_turismo_gt6.csv\") \n",
        "gran_turismo_2=gran_turismo_a\n",
        "gran_turismo=gran_turismo_2.dropna(axis=0)\n",
        "gran_turismo.isnull().sum()"
      ],
      "metadata": {
        "colab": {
          "base_uri": "https://localhost:8080/"
        },
        "id": "J0etrKMzCxTy",
        "outputId": "49a52864-ed5e-480b-cd47-83db2888f9f9"
      },
      "id": "J0etrKMzCxTy",
      "execution_count": 81,
      "outputs": [
        {
          "output_type": "execute_result",
          "data": {
            "text/plain": [
              "brand       0\n",
              "model       0\n",
              "car_type    0\n",
              "img_url     0\n",
              "price       0\n",
              "drive       0\n",
              "hp          0\n",
              "weight      0\n",
              "torque      0\n",
              "w_kg        0\n",
              "dtype: int64"
            ]
          },
          "metadata": {},
          "execution_count": 81
        }
      ]
    },
    {
      "cell_type": "code",
      "source": [
        "gran_turismo"
      ],
      "metadata": {
        "colab": {
          "base_uri": "https://localhost:8080/",
          "height": 467
        },
        "id": "lv2LJe5zNOKs",
        "outputId": "21205e8d-2526-428c-b118-f53672171839"
      },
      "id": "lv2LJe5zNOKs",
      "execution_count": 82,
      "outputs": [
        {
          "output_type": "execute_result",
          "data": {
            "text/plain": [
              "           brand               model car_type  \\\n",
              "0        AC Cars         427 S/C '66   Street   \n",
              "1            AEM               S2000    Tuned   \n",
              "3         Abarth             500 '09   Street   \n",
              "4         Abarth    Grande Punto '09   Street   \n",
              "5          Acura   CL 3.2 Type-S '01   Street   \n",
              "...          ...                 ...      ...   \n",
              "1265  Volkswagen      Scirocco R '10   Street   \n",
              "1266  Volkswagen       W12 Nardo '01   Street   \n",
              "1267       Volvo  240 GLT Estate '88   Street   \n",
              "1268       Volvo    C30 R-Design '09   Street   \n",
              "1269       Volvo   S60 T-5 Sport '03   Street   \n",
              "\n",
              "                                                img_url      price drive  \\\n",
              "0     https://www.kudosprime.com/gt6/images/cars/gt6...   423200.0    FR   \n",
              "1     https://www.kudosprime.com/gt6/images/cars/gt6...   100000.0    FR   \n",
              "3     https://www.kudosprime.com/gt6/images/cars/gt6...    29500.0    FF   \n",
              "4     https://www.kudosprime.com/gt6/images/cars/gt6...    27000.0    FF   \n",
              "5     https://www.kudosprime.com/gt6/images/cars/gt6...    32180.0    FF   \n",
              "...                                                 ...        ...   ...   \n",
              "1265  https://www.kudosprime.com/gt6/images/cars/gt6...    51500.0    FF   \n",
              "1266  https://www.kudosprime.com/gt6/images/cars/gt6...  1250000.0    MR   \n",
              "1267  https://www.kudosprime.com/gt6/images/cars/gt6...    15920.0    FR   \n",
              "1268  https://www.kudosprime.com/gt6/images/cars/gt6...    42000.0    FF   \n",
              "1269  https://www.kudosprime.com/gt6/images/cars/gt6...    35580.0    FF   \n",
              "\n",
              "         hp  weight  torque             w_kg  \n",
              "0     478.0  1311.0   651.0    272 to ? W/Kg  \n",
              "1     430.0  1155.0   495.0  278 to 345 W/Kg  \n",
              "3     133.0  1035.0   180.0   96 to 251 W/Kg  \n",
              "4     153.0  1240.0   230.0     92 to ? W/Kg  \n",
              "5     260.0  1592.0   315.0    122 to ? W/Kg  \n",
              "...     ...     ...     ...              ...  \n",
              "1265  252.0  1410.0   330.0  133 to 298 W/Kg  \n",
              "1266  574.0  1300.0   620.0    329 to ? W/Kg  \n",
              "1267  127.0  1890.0   190.0     50 to ? W/Kg  \n",
              "1268  227.0  1430.0   319.0    118 to ? W/Kg  \n",
              "1269  246.0  1550.0   330.0    119 to ? W/Kg  \n",
              "\n",
              "[1031 rows x 10 columns]"
            ],
            "text/html": [
              "\n",
              "  <div id=\"df-ecfd340a-8d1d-4719-9ccb-def943378646\">\n",
              "    <div class=\"colab-df-container\">\n",
              "      <div>\n",
              "<style scoped>\n",
              "    .dataframe tbody tr th:only-of-type {\n",
              "        vertical-align: middle;\n",
              "    }\n",
              "\n",
              "    .dataframe tbody tr th {\n",
              "        vertical-align: top;\n",
              "    }\n",
              "\n",
              "    .dataframe thead th {\n",
              "        text-align: right;\n",
              "    }\n",
              "</style>\n",
              "<table border=\"1\" class=\"dataframe\">\n",
              "  <thead>\n",
              "    <tr style=\"text-align: right;\">\n",
              "      <th></th>\n",
              "      <th>brand</th>\n",
              "      <th>model</th>\n",
              "      <th>car_type</th>\n",
              "      <th>img_url</th>\n",
              "      <th>price</th>\n",
              "      <th>drive</th>\n",
              "      <th>hp</th>\n",
              "      <th>weight</th>\n",
              "      <th>torque</th>\n",
              "      <th>w_kg</th>\n",
              "    </tr>\n",
              "  </thead>\n",
              "  <tbody>\n",
              "    <tr>\n",
              "      <th>0</th>\n",
              "      <td>AC Cars</td>\n",
              "      <td>427 S/C '66</td>\n",
              "      <td>Street</td>\n",
              "      <td>https://www.kudosprime.com/gt6/images/cars/gt6...</td>\n",
              "      <td>423200.0</td>\n",
              "      <td>FR</td>\n",
              "      <td>478.0</td>\n",
              "      <td>1311.0</td>\n",
              "      <td>651.0</td>\n",
              "      <td>272 to ? W/Kg</td>\n",
              "    </tr>\n",
              "    <tr>\n",
              "      <th>1</th>\n",
              "      <td>AEM</td>\n",
              "      <td>S2000</td>\n",
              "      <td>Tuned</td>\n",
              "      <td>https://www.kudosprime.com/gt6/images/cars/gt6...</td>\n",
              "      <td>100000.0</td>\n",
              "      <td>FR</td>\n",
              "      <td>430.0</td>\n",
              "      <td>1155.0</td>\n",
              "      <td>495.0</td>\n",
              "      <td>278 to 345 W/Kg</td>\n",
              "    </tr>\n",
              "    <tr>\n",
              "      <th>3</th>\n",
              "      <td>Abarth</td>\n",
              "      <td>500 '09</td>\n",
              "      <td>Street</td>\n",
              "      <td>https://www.kudosprime.com/gt6/images/cars/gt6...</td>\n",
              "      <td>29500.0</td>\n",
              "      <td>FF</td>\n",
              "      <td>133.0</td>\n",
              "      <td>1035.0</td>\n",
              "      <td>180.0</td>\n",
              "      <td>96 to 251 W/Kg</td>\n",
              "    </tr>\n",
              "    <tr>\n",
              "      <th>4</th>\n",
              "      <td>Abarth</td>\n",
              "      <td>Grande Punto '09</td>\n",
              "      <td>Street</td>\n",
              "      <td>https://www.kudosprime.com/gt6/images/cars/gt6...</td>\n",
              "      <td>27000.0</td>\n",
              "      <td>FF</td>\n",
              "      <td>153.0</td>\n",
              "      <td>1240.0</td>\n",
              "      <td>230.0</td>\n",
              "      <td>92 to ? W/Kg</td>\n",
              "    </tr>\n",
              "    <tr>\n",
              "      <th>5</th>\n",
              "      <td>Acura</td>\n",
              "      <td>CL 3.2 Type-S '01</td>\n",
              "      <td>Street</td>\n",
              "      <td>https://www.kudosprime.com/gt6/images/cars/gt6...</td>\n",
              "      <td>32180.0</td>\n",
              "      <td>FF</td>\n",
              "      <td>260.0</td>\n",
              "      <td>1592.0</td>\n",
              "      <td>315.0</td>\n",
              "      <td>122 to ? W/Kg</td>\n",
              "    </tr>\n",
              "    <tr>\n",
              "      <th>...</th>\n",
              "      <td>...</td>\n",
              "      <td>...</td>\n",
              "      <td>...</td>\n",
              "      <td>...</td>\n",
              "      <td>...</td>\n",
              "      <td>...</td>\n",
              "      <td>...</td>\n",
              "      <td>...</td>\n",
              "      <td>...</td>\n",
              "      <td>...</td>\n",
              "    </tr>\n",
              "    <tr>\n",
              "      <th>1265</th>\n",
              "      <td>Volkswagen</td>\n",
              "      <td>Scirocco R '10</td>\n",
              "      <td>Street</td>\n",
              "      <td>https://www.kudosprime.com/gt6/images/cars/gt6...</td>\n",
              "      <td>51500.0</td>\n",
              "      <td>FF</td>\n",
              "      <td>252.0</td>\n",
              "      <td>1410.0</td>\n",
              "      <td>330.0</td>\n",
              "      <td>133 to 298 W/Kg</td>\n",
              "    </tr>\n",
              "    <tr>\n",
              "      <th>1266</th>\n",
              "      <td>Volkswagen</td>\n",
              "      <td>W12 Nardo '01</td>\n",
              "      <td>Street</td>\n",
              "      <td>https://www.kudosprime.com/gt6/images/cars/gt6...</td>\n",
              "      <td>1250000.0</td>\n",
              "      <td>MR</td>\n",
              "      <td>574.0</td>\n",
              "      <td>1300.0</td>\n",
              "      <td>620.0</td>\n",
              "      <td>329 to ? W/Kg</td>\n",
              "    </tr>\n",
              "    <tr>\n",
              "      <th>1267</th>\n",
              "      <td>Volvo</td>\n",
              "      <td>240 GLT Estate '88</td>\n",
              "      <td>Street</td>\n",
              "      <td>https://www.kudosprime.com/gt6/images/cars/gt6...</td>\n",
              "      <td>15920.0</td>\n",
              "      <td>FR</td>\n",
              "      <td>127.0</td>\n",
              "      <td>1890.0</td>\n",
              "      <td>190.0</td>\n",
              "      <td>50 to ? W/Kg</td>\n",
              "    </tr>\n",
              "    <tr>\n",
              "      <th>1268</th>\n",
              "      <td>Volvo</td>\n",
              "      <td>C30 R-Design '09</td>\n",
              "      <td>Street</td>\n",
              "      <td>https://www.kudosprime.com/gt6/images/cars/gt6...</td>\n",
              "      <td>42000.0</td>\n",
              "      <td>FF</td>\n",
              "      <td>227.0</td>\n",
              "      <td>1430.0</td>\n",
              "      <td>319.0</td>\n",
              "      <td>118 to ? W/Kg</td>\n",
              "    </tr>\n",
              "    <tr>\n",
              "      <th>1269</th>\n",
              "      <td>Volvo</td>\n",
              "      <td>S60 T-5 Sport '03</td>\n",
              "      <td>Street</td>\n",
              "      <td>https://www.kudosprime.com/gt6/images/cars/gt6...</td>\n",
              "      <td>35580.0</td>\n",
              "      <td>FF</td>\n",
              "      <td>246.0</td>\n",
              "      <td>1550.0</td>\n",
              "      <td>330.0</td>\n",
              "      <td>119 to ? W/Kg</td>\n",
              "    </tr>\n",
              "  </tbody>\n",
              "</table>\n",
              "<p>1031 rows × 10 columns</p>\n",
              "</div>\n",
              "      <button class=\"colab-df-convert\" onclick=\"convertToInteractive('df-ecfd340a-8d1d-4719-9ccb-def943378646')\"\n",
              "              title=\"Convert this dataframe to an interactive table.\"\n",
              "              style=\"display:none;\">\n",
              "        \n",
              "  <svg xmlns=\"http://www.w3.org/2000/svg\" height=\"24px\"viewBox=\"0 0 24 24\"\n",
              "       width=\"24px\">\n",
              "    <path d=\"M0 0h24v24H0V0z\" fill=\"none\"/>\n",
              "    <path d=\"M18.56 5.44l.94 2.06.94-2.06 2.06-.94-2.06-.94-.94-2.06-.94 2.06-2.06.94zm-11 1L8.5 8.5l.94-2.06 2.06-.94-2.06-.94L8.5 2.5l-.94 2.06-2.06.94zm10 10l.94 2.06.94-2.06 2.06-.94-2.06-.94-.94-2.06-.94 2.06-2.06.94z\"/><path d=\"M17.41 7.96l-1.37-1.37c-.4-.4-.92-.59-1.43-.59-.52 0-1.04.2-1.43.59L10.3 9.45l-7.72 7.72c-.78.78-.78 2.05 0 2.83L4 21.41c.39.39.9.59 1.41.59.51 0 1.02-.2 1.41-.59l7.78-7.78 2.81-2.81c.8-.78.8-2.07 0-2.86zM5.41 20L4 18.59l7.72-7.72 1.47 1.35L5.41 20z\"/>\n",
              "  </svg>\n",
              "      </button>\n",
              "      \n",
              "  <style>\n",
              "    .colab-df-container {\n",
              "      display:flex;\n",
              "      flex-wrap:wrap;\n",
              "      gap: 12px;\n",
              "    }\n",
              "\n",
              "    .colab-df-convert {\n",
              "      background-color: #E8F0FE;\n",
              "      border: none;\n",
              "      border-radius: 50%;\n",
              "      cursor: pointer;\n",
              "      display: none;\n",
              "      fill: #1967D2;\n",
              "      height: 32px;\n",
              "      padding: 0 0 0 0;\n",
              "      width: 32px;\n",
              "    }\n",
              "\n",
              "    .colab-df-convert:hover {\n",
              "      background-color: #E2EBFA;\n",
              "      box-shadow: 0px 1px 2px rgba(60, 64, 67, 0.3), 0px 1px 3px 1px rgba(60, 64, 67, 0.15);\n",
              "      fill: #174EA6;\n",
              "    }\n",
              "\n",
              "    [theme=dark] .colab-df-convert {\n",
              "      background-color: #3B4455;\n",
              "      fill: #D2E3FC;\n",
              "    }\n",
              "\n",
              "    [theme=dark] .colab-df-convert:hover {\n",
              "      background-color: #434B5C;\n",
              "      box-shadow: 0px 1px 3px 1px rgba(0, 0, 0, 0.15);\n",
              "      filter: drop-shadow(0px 1px 2px rgba(0, 0, 0, 0.3));\n",
              "      fill: #FFFFFF;\n",
              "    }\n",
              "  </style>\n",
              "\n",
              "      <script>\n",
              "        const buttonEl =\n",
              "          document.querySelector('#df-ecfd340a-8d1d-4719-9ccb-def943378646 button.colab-df-convert');\n",
              "        buttonEl.style.display =\n",
              "          google.colab.kernel.accessAllowed ? 'block' : 'none';\n",
              "\n",
              "        async function convertToInteractive(key) {\n",
              "          const element = document.querySelector('#df-ecfd340a-8d1d-4719-9ccb-def943378646');\n",
              "          const dataTable =\n",
              "            await google.colab.kernel.invokeFunction('convertToInteractive',\n",
              "                                                     [key], {});\n",
              "          if (!dataTable) return;\n",
              "\n",
              "          const docLinkHtml = 'Like what you see? Visit the ' +\n",
              "            '<a target=\"_blank\" href=https://colab.research.google.com/notebooks/data_table.ipynb>data table notebook</a>'\n",
              "            + ' to learn more about interactive tables.';\n",
              "          element.innerHTML = '';\n",
              "          dataTable['output_type'] = 'display_data';\n",
              "          await google.colab.output.renderOutput(dataTable, element);\n",
              "          const docLink = document.createElement('div');\n",
              "          docLink.innerHTML = docLinkHtml;\n",
              "          element.appendChild(docLink);\n",
              "        }\n",
              "      </script>\n",
              "    </div>\n",
              "  </div>\n",
              "  "
            ]
          },
          "metadata": {},
          "execution_count": 82
        }
      ]
    },
    {
      "cell_type": "code",
      "source": [
        "#Уберём столбцы, которые не оказывают влияние на целевое значение, чтобы с датафреймом было проще работать\n",
        "# Также, нам необходимо заменить tuned на street в car_type, так как tuned является подклассом race, но это выделение нигде не используется\n",
        "gran_turismo.pop('w_kg')\n",
        "gran_turismo.pop('model')\n",
        "gran_turismo.pop('img_url')\n",
        "gran_turismo['car_type'] = np.where((gran_turismo.car_type == 'Tuned'), 'Race', gran_turismo.car_type)"
      ],
      "metadata": {
        "colab": {
          "base_uri": "https://localhost:8080/"
        },
        "id": "cA6w8iIzLOXI",
        "outputId": "c6f13a84-fe57-4614-a2e3-ef8f5b2a8d27"
      },
      "id": "cA6w8iIzLOXI",
      "execution_count": 83,
      "outputs": [
        {
          "output_type": "stream",
          "name": "stderr",
          "text": [
            "/usr/local/lib/python3.7/dist-packages/ipykernel_launcher.py:6: SettingWithCopyWarning:\n",
            "\n",
            "\n",
            "A value is trying to be set on a copy of a slice from a DataFrame.\n",
            "Try using .loc[row_indexer,col_indexer] = value instead\n",
            "\n",
            "See the caveats in the documentation: https://pandas.pydata.org/pandas-docs/stable/user_guide/indexing.html#returning-a-view-versus-a-copy\n",
            "\n"
          ]
        }
      ]
    },
    {
      "cell_type": "code",
      "execution_count": 84,
      "id": "9c61198d",
      "metadata": {
        "id": "9c61198d",
        "colab": {
          "base_uri": "https://localhost:8080/",
          "height": 415
        },
        "outputId": "5b1bd53b-992d-4ce4-e2da-7442de8b25be"
      },
      "outputs": [
        {
          "output_type": "stream",
          "name": "stdout",
          "text": [
            "0       FR\n",
            "1       FR\n",
            "3       FF\n",
            "4       FF\n",
            "5       FF\n",
            "        ..\n",
            "1265    FF\n",
            "1266    MR\n",
            "1267    FR\n",
            "1268    FF\n",
            "1269    FF\n",
            "Name: drive, Length: 1031, dtype: object\n"
          ]
        },
        {
          "output_type": "execute_result",
          "data": {
            "text/plain": [
              "     brand car_type     price     hp  weight  torque\n",
              "0  AC Cars   Street  423200.0  478.0  1311.0   651.0\n",
              "1      AEM     Race  100000.0  430.0  1155.0   495.0\n",
              "3   Abarth   Street   29500.0  133.0  1035.0   180.0\n",
              "4   Abarth   Street   27000.0  153.0  1240.0   230.0\n",
              "5    Acura   Street   32180.0  260.0  1592.0   315.0"
            ],
            "text/html": [
              "\n",
              "  <div id=\"df-d67f7e5a-e012-43f3-b724-23ca0981eeea\">\n",
              "    <div class=\"colab-df-container\">\n",
              "      <div>\n",
              "<style scoped>\n",
              "    .dataframe tbody tr th:only-of-type {\n",
              "        vertical-align: middle;\n",
              "    }\n",
              "\n",
              "    .dataframe tbody tr th {\n",
              "        vertical-align: top;\n",
              "    }\n",
              "\n",
              "    .dataframe thead th {\n",
              "        text-align: right;\n",
              "    }\n",
              "</style>\n",
              "<table border=\"1\" class=\"dataframe\">\n",
              "  <thead>\n",
              "    <tr style=\"text-align: right;\">\n",
              "      <th></th>\n",
              "      <th>brand</th>\n",
              "      <th>car_type</th>\n",
              "      <th>price</th>\n",
              "      <th>hp</th>\n",
              "      <th>weight</th>\n",
              "      <th>torque</th>\n",
              "    </tr>\n",
              "  </thead>\n",
              "  <tbody>\n",
              "    <tr>\n",
              "      <th>0</th>\n",
              "      <td>AC Cars</td>\n",
              "      <td>Street</td>\n",
              "      <td>423200.0</td>\n",
              "      <td>478.0</td>\n",
              "      <td>1311.0</td>\n",
              "      <td>651.0</td>\n",
              "    </tr>\n",
              "    <tr>\n",
              "      <th>1</th>\n",
              "      <td>AEM</td>\n",
              "      <td>Race</td>\n",
              "      <td>100000.0</td>\n",
              "      <td>430.0</td>\n",
              "      <td>1155.0</td>\n",
              "      <td>495.0</td>\n",
              "    </tr>\n",
              "    <tr>\n",
              "      <th>3</th>\n",
              "      <td>Abarth</td>\n",
              "      <td>Street</td>\n",
              "      <td>29500.0</td>\n",
              "      <td>133.0</td>\n",
              "      <td>1035.0</td>\n",
              "      <td>180.0</td>\n",
              "    </tr>\n",
              "    <tr>\n",
              "      <th>4</th>\n",
              "      <td>Abarth</td>\n",
              "      <td>Street</td>\n",
              "      <td>27000.0</td>\n",
              "      <td>153.0</td>\n",
              "      <td>1240.0</td>\n",
              "      <td>230.0</td>\n",
              "    </tr>\n",
              "    <tr>\n",
              "      <th>5</th>\n",
              "      <td>Acura</td>\n",
              "      <td>Street</td>\n",
              "      <td>32180.0</td>\n",
              "      <td>260.0</td>\n",
              "      <td>1592.0</td>\n",
              "      <td>315.0</td>\n",
              "    </tr>\n",
              "  </tbody>\n",
              "</table>\n",
              "</div>\n",
              "      <button class=\"colab-df-convert\" onclick=\"convertToInteractive('df-d67f7e5a-e012-43f3-b724-23ca0981eeea')\"\n",
              "              title=\"Convert this dataframe to an interactive table.\"\n",
              "              style=\"display:none;\">\n",
              "        \n",
              "  <svg xmlns=\"http://www.w3.org/2000/svg\" height=\"24px\"viewBox=\"0 0 24 24\"\n",
              "       width=\"24px\">\n",
              "    <path d=\"M0 0h24v24H0V0z\" fill=\"none\"/>\n",
              "    <path d=\"M18.56 5.44l.94 2.06.94-2.06 2.06-.94-2.06-.94-.94-2.06-.94 2.06-2.06.94zm-11 1L8.5 8.5l.94-2.06 2.06-.94-2.06-.94L8.5 2.5l-.94 2.06-2.06.94zm10 10l.94 2.06.94-2.06 2.06-.94-2.06-.94-.94-2.06-.94 2.06-2.06.94z\"/><path d=\"M17.41 7.96l-1.37-1.37c-.4-.4-.92-.59-1.43-.59-.52 0-1.04.2-1.43.59L10.3 9.45l-7.72 7.72c-.78.78-.78 2.05 0 2.83L4 21.41c.39.39.9.59 1.41.59.51 0 1.02-.2 1.41-.59l7.78-7.78 2.81-2.81c.8-.78.8-2.07 0-2.86zM5.41 20L4 18.59l7.72-7.72 1.47 1.35L5.41 20z\"/>\n",
              "  </svg>\n",
              "      </button>\n",
              "      \n",
              "  <style>\n",
              "    .colab-df-container {\n",
              "      display:flex;\n",
              "      flex-wrap:wrap;\n",
              "      gap: 12px;\n",
              "    }\n",
              "\n",
              "    .colab-df-convert {\n",
              "      background-color: #E8F0FE;\n",
              "      border: none;\n",
              "      border-radius: 50%;\n",
              "      cursor: pointer;\n",
              "      display: none;\n",
              "      fill: #1967D2;\n",
              "      height: 32px;\n",
              "      padding: 0 0 0 0;\n",
              "      width: 32px;\n",
              "    }\n",
              "\n",
              "    .colab-df-convert:hover {\n",
              "      background-color: #E2EBFA;\n",
              "      box-shadow: 0px 1px 2px rgba(60, 64, 67, 0.3), 0px 1px 3px 1px rgba(60, 64, 67, 0.15);\n",
              "      fill: #174EA6;\n",
              "    }\n",
              "\n",
              "    [theme=dark] .colab-df-convert {\n",
              "      background-color: #3B4455;\n",
              "      fill: #D2E3FC;\n",
              "    }\n",
              "\n",
              "    [theme=dark] .colab-df-convert:hover {\n",
              "      background-color: #434B5C;\n",
              "      box-shadow: 0px 1px 3px 1px rgba(0, 0, 0, 0.15);\n",
              "      filter: drop-shadow(0px 1px 2px rgba(0, 0, 0, 0.3));\n",
              "      fill: #FFFFFF;\n",
              "    }\n",
              "  </style>\n",
              "\n",
              "      <script>\n",
              "        const buttonEl =\n",
              "          document.querySelector('#df-d67f7e5a-e012-43f3-b724-23ca0981eeea button.colab-df-convert');\n",
              "        buttonEl.style.display =\n",
              "          google.colab.kernel.accessAllowed ? 'block' : 'none';\n",
              "\n",
              "        async function convertToInteractive(key) {\n",
              "          const element = document.querySelector('#df-d67f7e5a-e012-43f3-b724-23ca0981eeea');\n",
              "          const dataTable =\n",
              "            await google.colab.kernel.invokeFunction('convertToInteractive',\n",
              "                                                     [key], {});\n",
              "          if (!dataTable) return;\n",
              "\n",
              "          const docLinkHtml = 'Like what you see? Visit the ' +\n",
              "            '<a target=\"_blank\" href=https://colab.research.google.com/notebooks/data_table.ipynb>data table notebook</a>'\n",
              "            + ' to learn more about interactive tables.';\n",
              "          element.innerHTML = '';\n",
              "          dataTable['output_type'] = 'display_data';\n",
              "          await google.colab.output.renderOutput(dataTable, element);\n",
              "          const docLink = document.createElement('div');\n",
              "          docLink.innerHTML = docLinkHtml;\n",
              "          element.appendChild(docLink);\n",
              "        }\n",
              "      </script>\n",
              "    </div>\n",
              "  </div>\n",
              "  "
            ]
          },
          "metadata": {},
          "execution_count": 84
        }
      ],
      "source": [
        "\n",
        "#Разобьём датасет на тестовую и тренировочную датафреймы\n",
        "gran_turismo_3 = gran_turismo.copy()\n",
        "y=  gran_turismo_3.drive\n",
        "print(y)\n",
        "x=gran_turismo_3.drop('drive', axis=1)\n",
        "x.head()"
      ]
    },
    {
      "cell_type": "markdown",
      "id": "464cd739",
      "metadata": {
        "id": "464cd739"
      },
      "source": [
        "## 1 Matplotlib"
      ]
    },
    {
      "cell_type": "markdown",
      "id": "237a4c72",
      "metadata": {
        "id": "237a4c72"
      },
      "source": [
        "#### 1.1 Построить любой график (любого рода) с помощью чистого matplotlib / pylab"
      ]
    },
    {
      "cell_type": "code",
      "execution_count": 85,
      "id": "377b0423",
      "metadata": {
        "id": "377b0423",
        "outputId": "b657b9a3-e887-44a3-d1e0-f9f8a6ba6753",
        "colab": {
          "base_uri": "https://localhost:8080/",
          "height": 317
        }
      },
      "outputs": [
        {
          "output_type": "execute_result",
          "data": {
            "text/plain": [
              "(array([421.,   0., 222.,   0.,   0., 163.,   0., 207.,   0.,  18.]),\n",
              " array([0. , 0.4, 0.8, 1.2, 1.6, 2. , 2.4, 2.8, 3.2, 3.6, 4. ]),\n",
              " <a list of 10 Patch objects>)"
            ]
          },
          "metadata": {},
          "execution_count": 85
        },
        {
          "output_type": "display_data",
          "data": {
            "text/plain": [
              "<Figure size 432x288 with 1 Axes>"
            ],
            "image/png": "[encoded data removed]"
          },
          "metadata": {
            "needs_background": "light"
          }
        }
      ],
      "source": [
        "plt.hist(gran_turismo['drive'])"
      ]
    },
    {
      "cell_type": "markdown",
      "id": "cd2ff472",
      "metadata": {
        "id": "cd2ff472"
      },
      "source": [
        "#### 1.2 Построить несколько суб-графиков на одном графике используя .subplot."
      ]
    },
    {
      "cell_type": "code",
      "execution_count": 86,
      "id": "e81c8aad",
      "metadata": {
        "id": "e81c8aad",
        "outputId": "51342645-973f-43c9-cc33-4c904f20a3bd",
        "colab": {
          "base_uri": "https://localhost:8080/",
          "height": 421
        }
      },
      "outputs": [
        {
          "output_type": "execute_result",
          "data": {
            "text/plain": [
              "Text(0, 0.5, 'Quantity')"
            ]
          },
          "metadata": {},
          "execution_count": 86
        },
        {
          "output_type": "display_data",
          "data": {
            "text/plain": [
              "<Figure size 864x432 with 2 Axes>"
            ],
            "image/png": "[encoded data removed]"
          },
          "metadata": {
            "needs_background": "light"
          }
        }
      ],
      "source": [
        "fig, (ax1, ax2) = plt.subplots(1, 2, figsize=(12, 6))\n",
        "ax1.hist(gran_turismo['drive'])\n",
        "ax1.set_title('Drive Histogram')\n",
        "ax1.set_xlabel('Drive type')\n",
        "ax1.set_ylabel('Quantity')\n",
        "ax2.hist(gran_turismo['car_type'])\n",
        "ax2.set_title('Car Type Histogram')\n",
        "ax2.set_xlabel('Car type')\n",
        "ax2.set_ylabel('Quantity')\n",
        "\n"
      ]
    },
    {
      "cell_type": "markdown",
      "id": "7ef7c686",
      "metadata": {
        "id": "7ef7c686"
      },
      "source": [
        "### 2 На основе Вашего датасета построить три разных вида графиков используя pandas.DataFrame.plot / Series.plot (мануал) Среди графиков должен присутствовать один boxplot (обязательно надо использовать параметр by, для исследования взаимосвязи числовой переменной и какой-либо другой). Графики должны быть построены как через методы DataFrame, так и через методы Series. То есть оба варианта нужно продемонстрировать.\n"
      ]
    },
    {
      "cell_type": "code",
      "execution_count": 87,
      "id": "b3e521b4",
      "metadata": {
        "id": "b3e521b4",
        "outputId": "e30d977f-460b-4acd-f306-1cdbcca84307",
        "colab": {
          "base_uri": "https://localhost:8080/",
          "height": 415
        }
      },
      "outputs": [
        {
          "output_type": "execute_result",
          "data": {
            "text/plain": [
              "<matplotlib.axes._subplots.AxesSubplot at 0x7f29a5510950>"
            ]
          },
          "metadata": {},
          "execution_count": 87
        },
        {
          "output_type": "display_data",
          "data": {
            "text/plain": [
              "<Figure size 1080x432 with 3 Axes>"
            ],
            "image/png": "[encoded data removed]"
          },
          "metadata": {
            "needs_background": "light"
          }
        }
      ],
      "source": [
        "fig, (ax1, ax2, ax3) = plt.subplots(1, 3, figsize=(15, 6))\n",
        "gran_turismo.plot(y='weight', kind='hist', ax=ax1)\n",
        "gran_turismo['price'].plot.kde(y='weight', ax=ax2)\n",
        "gran_turismo.plot.box(by=[['drive']], ax=ax3)"
      ]
    },
    {
      "cell_type": "markdown",
      "id": "7fc9dc7f",
      "metadata": {
        "id": "7fc9dc7f"
      },
      "source": [
        "## 3 Seaborn\n",
        "\n",
        "#### 3.1 Построить .pairplot с помощью seaborn на каком-либо наборе данных, проанализировав взаимосвязь набора числовых переменных"
      ]
    },
    {
      "cell_type": "markdown",
      "id": "db8e55fe",
      "metadata": {
        "id": "db8e55fe"
      },
      "source": [
        "Между разными признаками не наблюдается сильной корреляции "
      ]
    },
    {
      "cell_type": "code",
      "execution_count": 88,
      "id": "6e71f3d3",
      "metadata": {
        "id": "6e71f3d3",
        "outputId": "9b5f7e3b-a3bd-4730-c103-0a448f7bcae4",
        "colab": {
          "base_uri": "https://localhost:8080/",
          "height": 391
        }
      },
      "outputs": [
        {
          "output_type": "execute_result",
          "data": {
            "text/plain": [
              "<seaborn.axisgrid.PairGrid at 0x7f29a53e9410>"
            ]
          },
          "metadata": {},
          "execution_count": 88
        },
        {
          "output_type": "display_data",
          "data": {
            "text/plain": [
              "<Figure size 360x360 with 6 Axes>"
            ],
            "image/png": "[encoded data removed]"
          },
          "metadata": {
            "needs_background": "light"
          }
        }
      ],
      "source": [
        "sns.pairplot(gran_turismo.iloc[::, 2:-2])"
      ]
    },
    {
      "cell_type": "markdown",
      "id": "771124a6",
      "metadata": {
        "id": "771124a6"
      },
      "source": [
        "#### 3.2 Построить .jointplot, проанализировав взаимосвязь двух конкретных числовых переменных"
      ]
    },
    {
      "cell_type": "markdown",
      "id": "32befdec",
      "metadata": {
        "id": "32befdec"
      },
      "source": [
        "Существует корреляция между очками здоровья машины и её ценой"
      ]
    },
    {
      "cell_type": "code",
      "execution_count": 89,
      "id": "253f1f9f",
      "metadata": {
        "id": "253f1f9f",
        "outputId": "ad4450cf-3340-49bb-ee58-a92c33cfb56c",
        "colab": {
          "base_uri": "https://localhost:8080/",
          "height": 459
        }
      },
      "outputs": [
        {
          "output_type": "execute_result",
          "data": {
            "text/plain": [
              "<seaborn.axisgrid.JointGrid at 0x7f29a53f1e50>"
            ]
          },
          "metadata": {},
          "execution_count": 89
        },
        {
          "output_type": "display_data",
          "data": {
            "text/plain": [
              "<Figure size 432x432 with 3 Axes>"
            ],
            "image/png": "[encoded data removed]"
          },
          "metadata": {
            "needs_background": "light"
          }
        }
      ],
      "source": [
        "sns.jointplot(x='hp', y='price', data=gran_turismo)"
      ]
    },
    {
      "cell_type": "markdown",
      "id": "e9cb5ae5",
      "metadata": {
        "id": "e9cb5ae5"
      },
      "source": [
        "#### 3.3 Построить .boxplot или .violinplot на каком-либо наборе данных, проанализировав какой-то числовой показатель в разрезе категориального"
      ]
    },
    {
      "cell_type": "markdown",
      "id": "349bb45c",
      "metadata": {
        "id": "349bb45c"
      },
      "source": [
        "В игре заметно больше машин для уличных гонок, у полноценных гоночных машин в среднем больше hp"
      ]
    },
    {
      "cell_type": "code",
      "execution_count": 90,
      "id": "79d4f1ab",
      "metadata": {
        "id": "79d4f1ab",
        "outputId": "f8a0352e-fd22-4243-8599-f31db31f69bd",
        "colab": {
          "base_uri": "https://localhost:8080/",
          "height": 297
        }
      },
      "outputs": [
        {
          "output_type": "execute_result",
          "data": {
            "text/plain": [
              "<matplotlib.axes._subplots.AxesSubplot at 0x7f29a41ba790>"
            ]
          },
          "metadata": {},
          "execution_count": 90
        },
        {
          "output_type": "display_data",
          "data": {
            "text/plain": [
              "<Figure size 432x288 with 1 Axes>"
            ],
            "image/png": "[encoded data removed]"
          },
          "metadata": {
            "needs_background": "light"
          }
        }
      ],
      "source": [
        "sns.violinplot(x='car_type', y='hp', data=gran_turismo)"
      ]
    },
    {
      "cell_type": "markdown",
      "id": "d53f500b",
      "metadata": {
        "id": "d53f500b"
      },
      "source": [
        "#### 3.4 Построить график heatmap попарной корреляции всех числовых признаков (категориальные признаки убираете из графика)"
      ]
    },
    {
      "cell_type": "markdown",
      "id": "f786242f",
      "metadata": {
        "id": "f786242f"
      },
      "source": [
        "Сильная корреляция между torque (крутящий момент двигателя) и hp(очки здоровья) "
      ]
    },
    {
      "cell_type": "code",
      "execution_count": 91,
      "id": "2c557be6",
      "metadata": {
        "id": "2c557be6",
        "outputId": "71c090c2-a913-4c61-b569-59855bea83c7",
        "colab": {
          "base_uri": "https://localhost:8080/",
          "height": 423
        }
      },
      "outputs": [
        {
          "output_type": "execute_result",
          "data": {
            "text/plain": [
              "          price     hp  weight  torque\n",
              "0      423200.0  478.0  1311.0   651.0\n",
              "1      100000.0  430.0  1155.0   495.0\n",
              "3       29500.0  133.0  1035.0   180.0\n",
              "4       27000.0  153.0  1240.0   230.0\n",
              "5       32180.0  260.0  1592.0   315.0\n",
              "...         ...    ...     ...     ...\n",
              "1265    51500.0  252.0  1410.0   330.0\n",
              "1266  1250000.0  574.0  1300.0   620.0\n",
              "1267    15920.0  127.0  1890.0   190.0\n",
              "1268    42000.0  227.0  1430.0   319.0\n",
              "1269    35580.0  246.0  1550.0   330.0\n",
              "\n",
              "[1031 rows x 4 columns]"
            ],
            "text/html": [
              "\n",
              "  <div id=\"df-a7af5906-a7fe-46f0-b4ee-2d082e6311eb\">\n",
              "    <div class=\"colab-df-container\">\n",
              "      <div>\n",
              "<style scoped>\n",
              "    .dataframe tbody tr th:only-of-type {\n",
              "        vertical-align: middle;\n",
              "    }\n",
              "\n",
              "    .dataframe tbody tr th {\n",
              "        vertical-align: top;\n",
              "    }\n",
              "\n",
              "    .dataframe thead th {\n",
              "        text-align: right;\n",
              "    }\n",
              "</style>\n",
              "<table border=\"1\" class=\"dataframe\">\n",
              "  <thead>\n",
              "    <tr style=\"text-align: right;\">\n",
              "      <th></th>\n",
              "      <th>price</th>\n",
              "      <th>hp</th>\n",
              "      <th>weight</th>\n",
              "      <th>torque</th>\n",
              "    </tr>\n",
              "  </thead>\n",
              "  <tbody>\n",
              "    <tr>\n",
              "      <th>0</th>\n",
              "      <td>423200.0</td>\n",
              "      <td>478.0</td>\n",
              "      <td>1311.0</td>\n",
              "      <td>651.0</td>\n",
              "    </tr>\n",
              "    <tr>\n",
              "      <th>1</th>\n",
              "      <td>100000.0</td>\n",
              "      <td>430.0</td>\n",
              "      <td>1155.0</td>\n",
              "      <td>495.0</td>\n",
              "    </tr>\n",
              "    <tr>\n",
              "      <th>3</th>\n",
              "      <td>29500.0</td>\n",
              "      <td>133.0</td>\n",
              "      <td>1035.0</td>\n",
              "      <td>180.0</td>\n",
              "    </tr>\n",
              "    <tr>\n",
              "      <th>4</th>\n",
              "      <td>27000.0</td>\n",
              "      <td>153.0</td>\n",
              "      <td>1240.0</td>\n",
              "      <td>230.0</td>\n",
              "    </tr>\n",
              "    <tr>\n",
              "      <th>5</th>\n",
              "      <td>32180.0</td>\n",
              "      <td>260.0</td>\n",
              "      <td>1592.0</td>\n",
              "      <td>315.0</td>\n",
              "    </tr>\n",
              "    <tr>\n",
              "      <th>...</th>\n",
              "      <td>...</td>\n",
              "      <td>...</td>\n",
              "      <td>...</td>\n",
              "      <td>...</td>\n",
              "    </tr>\n",
              "    <tr>\n",
              "      <th>1265</th>\n",
              "      <td>51500.0</td>\n",
              "      <td>252.0</td>\n",
              "      <td>1410.0</td>\n",
              "      <td>330.0</td>\n",
              "    </tr>\n",
              "    <tr>\n",
              "      <th>1266</th>\n",
              "      <td>1250000.0</td>\n",
              "      <td>574.0</td>\n",
              "      <td>1300.0</td>\n",
              "      <td>620.0</td>\n",
              "    </tr>\n",
              "    <tr>\n",
              "      <th>1267</th>\n",
              "      <td>15920.0</td>\n",
              "      <td>127.0</td>\n",
              "      <td>1890.0</td>\n",
              "      <td>190.0</td>\n",
              "    </tr>\n",
              "    <tr>\n",
              "      <th>1268</th>\n",
              "      <td>42000.0</td>\n",
              "      <td>227.0</td>\n",
              "      <td>1430.0</td>\n",
              "      <td>319.0</td>\n",
              "    </tr>\n",
              "    <tr>\n",
              "      <th>1269</th>\n",
              "      <td>35580.0</td>\n",
              "      <td>246.0</td>\n",
              "      <td>1550.0</td>\n",
              "      <td>330.0</td>\n",
              "    </tr>\n",
              "  </tbody>\n",
              "</table>\n",
              "<p>1031 rows × 4 columns</p>\n",
              "</div>\n",
              "      <button class=\"colab-df-convert\" onclick=\"convertToInteractive('df-a7af5906-a7fe-46f0-b4ee-2d082e6311eb')\"\n",
              "              title=\"Convert this dataframe to an interactive table.\"\n",
              "              style=\"display:none;\">\n",
              "        \n",
              "  <svg xmlns=\"http://www.w3.org/2000/svg\" height=\"24px\"viewBox=\"0 0 24 24\"\n",
              "       width=\"24px\">\n",
              "    <path d=\"M0 0h24v24H0V0z\" fill=\"none\"/>\n",
              "    <path d=\"M18.56 5.44l.94 2.06.94-2.06 2.06-.94-2.06-.94-.94-2.06-.94 2.06-2.06.94zm-11 1L8.5 8.5l.94-2.06 2.06-.94-2.06-.94L8.5 2.5l-.94 2.06-2.06.94zm10 10l.94 2.06.94-2.06 2.06-.94-2.06-.94-.94-2.06-.94 2.06-2.06.94z\"/><path d=\"M17.41 7.96l-1.37-1.37c-.4-.4-.92-.59-1.43-.59-.52 0-1.04.2-1.43.59L10.3 9.45l-7.72 7.72c-.78.78-.78 2.05 0 2.83L4 21.41c.39.39.9.59 1.41.59.51 0 1.02-.2 1.41-.59l7.78-7.78 2.81-2.81c.8-.78.8-2.07 0-2.86zM5.41 20L4 18.59l7.72-7.72 1.47 1.35L5.41 20z\"/>\n",
              "  </svg>\n",
              "      </button>\n",
              "      \n",
              "  <style>\n",
              "    .colab-df-container {\n",
              "      display:flex;\n",
              "      flex-wrap:wrap;\n",
              "      gap: 12px;\n",
              "    }\n",
              "\n",
              "    .colab-df-convert {\n",
              "      background-color: #E8F0FE;\n",
              "      border: none;\n",
              "      border-radius: 50%;\n",
              "      cursor: pointer;\n",
              "      display: none;\n",
              "      fill: #1967D2;\n",
              "      height: 32px;\n",
              "      padding: 0 0 0 0;\n",
              "      width: 32px;\n",
              "    }\n",
              "\n",
              "    .colab-df-convert:hover {\n",
              "      background-color: #E2EBFA;\n",
              "      box-shadow: 0px 1px 2px rgba(60, 64, 67, 0.3), 0px 1px 3px 1px rgba(60, 64, 67, 0.15);\n",
              "      fill: #174EA6;\n",
              "    }\n",
              "\n",
              "    [theme=dark] .colab-df-convert {\n",
              "      background-color: #3B4455;\n",
              "      fill: #D2E3FC;\n",
              "    }\n",
              "\n",
              "    [theme=dark] .colab-df-convert:hover {\n",
              "      background-color: #434B5C;\n",
              "      box-shadow: 0px 1px 3px 1px rgba(0, 0, 0, 0.15);\n",
              "      filter: drop-shadow(0px 1px 2px rgba(0, 0, 0, 0.3));\n",
              "      fill: #FFFFFF;\n",
              "    }\n",
              "  </style>\n",
              "\n",
              "      <script>\n",
              "        const buttonEl =\n",
              "          document.querySelector('#df-a7af5906-a7fe-46f0-b4ee-2d082e6311eb button.colab-df-convert');\n",
              "        buttonEl.style.display =\n",
              "          google.colab.kernel.accessAllowed ? 'block' : 'none';\n",
              "\n",
              "        async function convertToInteractive(key) {\n",
              "          const element = document.querySelector('#df-a7af5906-a7fe-46f0-b4ee-2d082e6311eb');\n",
              "          const dataTable =\n",
              "            await google.colab.kernel.invokeFunction('convertToInteractive',\n",
              "                                                     [key], {});\n",
              "          if (!dataTable) return;\n",
              "\n",
              "          const docLinkHtml = 'Like what you see? Visit the ' +\n",
              "            '<a target=\"_blank\" href=https://colab.research.google.com/notebooks/data_table.ipynb>data table notebook</a>'\n",
              "            + ' to learn more about interactive tables.';\n",
              "          element.innerHTML = '';\n",
              "          dataTable['output_type'] = 'display_data';\n",
              "          await google.colab.output.renderOutput(dataTable, element);\n",
              "          const docLink = document.createElement('div');\n",
              "          docLink.innerHTML = docLinkHtml;\n",
              "          element.appendChild(docLink);\n",
              "        }\n",
              "      </script>\n",
              "    </div>\n",
              "  </div>\n",
              "  "
            ]
          },
          "metadata": {},
          "execution_count": 91
        }
      ],
      "source": [
        "gran_turismo_4 = gran_turismo.copy()\n",
        "gran_turismo_4.pop('car_type')\n",
        "gran_turismo_4.pop('drive')\n",
        "gran_turismo_4.pop('brand')\n",
        "\n",
        "gran_turismo_4\n"
      ]
    },
    {
      "cell_type": "code",
      "source": [
        "sns.heatmap(gran_turismo_4.fillna(0).iloc[::, 0:4].apply(lambda x: ((x - x.min())/(x.max() - x.min())), axis=0).cov())"
      ],
      "metadata": {
        "colab": {
          "base_uri": "https://localhost:8080/",
          "height": 283
        },
        "id": "v7j9nhuyURE2",
        "outputId": "c9d7ae9a-65a7-4d49-882f-959519cc96f0"
      },
      "id": "v7j9nhuyURE2",
      "execution_count": 92,
      "outputs": [
        {
          "output_type": "execute_result",
          "data": {
            "text/plain": [
              "<matplotlib.axes._subplots.AxesSubplot at 0x7f29a4088410>"
            ]
          },
          "metadata": {},
          "execution_count": 92
        },
        {
          "output_type": "display_data",
          "data": {
            "text/plain": [
              "<Figure size 432x288 with 2 Axes>"
            ],
            "image/png": "[encoded data removed]"
          },
          "metadata": {
            "needs_background": "light"
          }
        }
      ]
    },
    {
      "cell_type": "markdown",
      "id": "ddaf567b",
      "metadata": {
        "id": "ddaf567b"
      },
      "source": [
        "### 4 Построить QQ-график (и гистограмму) для одного из числовых признаков с целью проверки на соответствие его распределения нормальному распределению"
      ]
    },
    {
      "cell_type": "code",
      "execution_count": 93,
      "id": "41c007f0",
      "metadata": {
        "id": "41c007f0"
      },
      "outputs": [],
      "source": [
        "# Импортируем нужный инструмент\n",
        "from scipy.stats import probplot"
      ]
    },
    {
      "cell_type": "markdown",
      "id": "304fa2bd",
      "metadata": {
        "id": "304fa2bd"
      },
      "source": [
        "Ближе всего к нормальному распределению признак weight(вес), однако, имеются две аномалии(в игре есть аномально тяжёлый и аномально лёгкий агрегат)"
      ]
    },
    {
      "cell_type": "code",
      "execution_count": 94,
      "id": "00e7ff8e",
      "metadata": {
        "id": "00e7ff8e",
        "outputId": "d16cbc9d-89cb-4cca-c6c3-35741e6a18ce",
        "colab": {
          "base_uri": "https://localhost:8080/",
          "height": 365
        }
      },
      "outputs": [
        {
          "output_type": "execute_result",
          "data": {
            "text/plain": [
              "((array([-3.20638086, -2.94184172, -2.79426121, ...,  2.79426121,\n",
              "          2.94184172,  3.20638086]),\n",
              "  array([  63.,  369.,  385., ..., 2390., 2404., 3500.])),\n",
              " (309.1735702549484, 1247.2638215324928, 0.9893648298365082))"
            ]
          },
          "metadata": {},
          "execution_count": 94
        },
        {
          "output_type": "display_data",
          "data": {
            "text/plain": [
              "<Figure size 432x288 with 1 Axes>"
            ],
            "image/png": "[encoded data removed]"
          },
          "metadata": {
            "needs_background": "light"
          }
        }
      ],
      "source": [
        "probplot(gran_turismo['weight'].fillna(0), dist=\"norm\", plot=plt)"
      ]
    },
    {
      "cell_type": "markdown",
      "id": "3cd716ed",
      "metadata": {
        "id": "3cd716ed"
      },
      "source": [
        "### 5 Построить любой график (связанный с вашими данными) с помощью plotly"
      ]
    },
    {
      "cell_type": "markdown",
      "id": "ab58811b",
      "metadata": {
        "id": "ab58811b"
      },
      "source": [
        "plotly позволяет строить интерактивные графики"
      ]
    },
    {
      "cell_type": "code",
      "execution_count": 95,
      "id": "a3312b93",
      "metadata": {
        "id": "a3312b93",
        "colab": {
          "base_uri": "https://localhost:8080/"
        },
        "outputId": "b8e2dffa-f86a-4998-e65d-0718356d7623"
      },
      "outputs": [
        {
          "output_type": "stream",
          "name": "stdout",
          "text": [
            "Requirement already satisfied: plotly in /usr/local/lib/python3.7/dist-packages (5.5.0)\n",
            "Requirement already satisfied: six in /usr/local/lib/python3.7/dist-packages (from plotly) (1.15.0)\n",
            "Requirement already satisfied: tenacity>=6.2.0 in /usr/local/lib/python3.7/dist-packages (from plotly) (8.0.1)\n"
          ]
        }
      ],
      "source": [
        "!pip install plotly\n",
        "import plotly.express as px"
      ]
    },
    {
      "cell_type": "code",
      "execution_count": 96,
      "id": "11776d90",
      "metadata": {
        "id": "11776d90",
        "outputId": "224afb58-e60e-4899-d655-a1abae4cfe85",
        "colab": {
          "base_uri": "https://localhost:8080/",
          "height": 542
        }
      },
      "outputs": [
        {
          "output_type": "display_data",
          "data": {
            "text/html": [
              "<html>\n",
              "<head><meta charset=\"utf-8\" /></head>\n",
              "<body>\n",
              "    <div>            <script src=\"https://cdnjs.cloudflare.com/ajax/libs/mathjax/2.7.5/MathJax.js?config=TeX-AMS-MML_SVG\"></script><script type=\"text/javascript\">if (window.MathJax) {MathJax.Hub.Config({SVG: {font: \"STIX-Web\"}});}</script>                <script type=\"text/javascript\">window.PlotlyConfig = {MathJaxConfig: 'local'};</script>\n",
              "        <script src=\"https://cdn.plot.ly/plotly-2.8.3.min.js\"></script>                <div id=\"ae5d14d0-6a4f-40d7-998a-723e38eebeeb\" class=\"plotly-graph-div\" style=\"height:525px; width:100%;\"></div>            <script type=\"text/javascript\">                                    window.PLOTLYENV=window.PLOTLYENV || {};                                    if (document.getElementById(\"ae5d14d0-6a4f-40d7-998a-723e38eebeeb\")) {                    Plotly.newPlot(                        \"ae5d14d0-6a4f-40d7-998a-723e38eebeeb\",                        [{\"alignmentgroup\":\"True\",\"bingroup\":\"x\",\"hovertemplate\":\"weight=%{x}<br>count=%{y}<extra></extra>\",\"legendgroup\":\"\",\"marker\":{\"color\":\"#636efa\",\"pattern\":{\"shape\":\"\"}},\"name\":\"\",\"offsetgroup\":\"\",\"orientation\":\"v\",\"showlegend\":false,\"x\":[1311.0,1155.0,1035.0,1240.0,1592.0,1563.0,1197.0,1430.0,1365.0,1392.0,1255.0,1280.0,1360.0,1280.0,1010.0,1320.0,1520.0,1585.0,1750.0,1347.0,1415.0,745.0,950.0,1145.0,960.0,1450.0,1552.0,930.0,900.0,1123.0,1370.0,1120.0,1775.0,1710.0,1710.0,1375.0,1630.0,1680.0,1970.0,1835.0,920.0,1495.0,1080.0,1530.0,925.0,875.0,900.0,900.0,950.0,1560.0,1620.0,1598.0,1340.0,1250.0,1250.0,900.0,1620.0,1840.0,1880.0,2025.0,1420.0,1660.0,1510.0,1000.0,1090.0,1395.0,1520.0,1410.0,1415.0,1290.0,1125.0,1175.0,800.0,1175.0,700.0,63.0,540.0,455.0,1252.0,1415.0,1335.0,1560.0,1080.0,1140.0,1525.0,1240.0,1245.0,1465.0,1570.0,1385.0,1655.0,1625.0,1245.0,1245.0,1350.0,1120.0,1497.0,1497.0,1715.0,1855.0,900.0,1180.0,1365.0,1190.0,1495.0,1610.0,900.0,1888.0,1888.0,1600.0,1364.0,1940.0,1480.0,369.0,924.0,1468.0,1560.0,1755.0,1401.0,1415.0,1561.0,1762.0,1139.0,1309.0,1370.0,1496.0,1150.0,1500.0,1552.0,1500.0,1490.0,1409.0,1414.0,1421.0,1600.0,1508.0,1468.0,1590.0,2248.0,2268.0,1878.0,1361.0,1270.0,1287.0,495.0,1063.0,1330.0,1230.0,1540.0,1496.0,960.0,1180.0,1640.0,1288.0,830.0,800.0,700.0,700.0,740.0,920.0,760.0,810.0,570.0,820.0,840.0,890.0,840.0,840.0,890.0,840.0,475.0,1724.0,1650.0,1841.0,1252.0,792.0,1200.0,1350.0,1485.0,1400.0,1580.0,1080.0,1255.0,1352.0,1450.0,1155.0,1160.0,1010.0,520.0,520.0,530.0,595.0,1090.0,1310.0,730.0,1100.0,2404.0,1350.0,1230.0,1230.0,1230.0,1430.0,1462.0,1240.0,1451.0,1451.0,1080.0,998.0,965.0,1000.0,1647.0,1568.0,1628.0,1630.0,1180.0,2132.0,1733.0,1509.0,780.0,545.0,560.0,1721.0,1068.0,1130.0,1338.0,1485.0,1658.0,1658.0,950.0,900.0,1220.0,1481.0,1330.0,1390.0,1150.0,1100.0,815.0,760.0,760.0,760.0,735.0,815.0,780.0,1040.0,1040.0,1040.0,1040.0,1270.0,1050.0,1050.0,1190.0,1190.0,1190.0,986.0,1100.0,1130.0,1150.0,1560.0,1150.0,1050.0,990.0,1100.0,820.0,1200.0,1060.0,1080.0,1080.0,1170.0,1180.0,990.0,1100.0,605.0,1150.0,890.0,1150.0,475.0,1340.0,1350.0,1350.0,1350.0,1350.0,1350.0,1150.0,1100.0,1270.0,1230.0,1320.0,1320.0,1320.0,1270.0,1270.0,1700.0,1280.0,1260.0,1270.0,1310.0,1310.0,1100.0,1150.0,1100.0,1240.0,1250.0,1250.0,1240.0,1240.0,1250.0,1240.0,1240.0,1250.0,1240.0,1260.0,1260.0,1270.0,1260.0,1260.0,1260.0,1260.0,675.0,715.0,720.0,1170.0,1100.0,550.0,510.0,1100.0,1292.0,1230.0,1340.0,1557.0,1340.0,1290.0,1340.0,1680.0,1500.0,1210.0,1530.0,1598.0,1513.0,1050.0,970.0,1190.0,1219.0,1800.0,1960.0,998.0,975.0,1372.0,1180.0,894.0,1690.0,1810.0,1640.0,1735.0,1810.0,1851.0,3500.0,790.0,790.0,1575.0,1490.0,1065.0,1460.0,1530.0,1410.0,980.0,1665.0,1635.0,1565.0,1200.0,1665.0,1350.0,1120.0,890.0,980.0,980.0,1640.0,1100.0,1100.0,1100.0,1680.0,1680.0,1680.0,1310.0,1340.0,1010.0,1470.0,1690.0,1075.0,1480.0,1480.0,1100.0,1560.0,1730.0,1730.0,1100.0,390.0,1438.0,1655.0,639.0,714.0,876.0,755.0,860.0,806.0,670.0,756.0,1300.0,1146.0,1380.0,1325.0,1380.0,624.0,730.0,700.0,1070.0,1150.0,1115.0,1120.0,1180.0,1210.0,1140.0,1310.0,1050.0,720.0,1125.0,559.0,1780.0,940.0,960.0,1080.0,1240.0,830.0,830.0,1300.0,1470.0,1390.0,720.0,1260.0,560.0,940.0,960.0,960.0,1080.0,1020.0,940.0,950.0,990.0,990.0,1000.0,1000.0,990.0,1170.0,900.0,1200.0,940.0,1030.0,1050.0,1070.0,1080.0,940.0,980.0,940.0,1030.0,1050.0,1070.0,1080.0,940.0,980.0,1000.0,980.0,980.0,980.0,1000.0,980.0,980.0,980.0,1390.0,1070.0,1170.0,1280.0,1250.0,1250.0,1270.0,1260.0,1260.0,1260.0,1260.0,1280.0,1280.0,1280.0,1280.0,1270.0,1230.0,1240.0,1250.0,1250.0,1310.0,1200.0,1330.0,1310.0,1310.0,1030.0,1050.0,1070.0,1080.0,1100.0,1280.0,1230.0,1260.0,1260.0,1260.0,1280.0,1230.0,1240.0,1250.0,1250.0,1140.0,1050.0,1050.0,1100.0,1350.0,1340.0,1295.0,1275.0,1115.0,1385.0,1300.0,1730.0,1955.0,1620.0,1910.0,1800.0,1840.0,1970.0,2029.0,2025.0,2028.0,1325.0,1768.0,1768.0,1620.0,1350.0,1465.0,893.0,1418.0,1340.0,1340.0,1210.0,1680.0,1670.0,1610.0,1610.0,1600.0,1610.0,1610.0,1600.0,1680.0,1710.0,1710.0,1680.0,1520.0,1030.0,1350.0,1575.0,1330.0,1510.0,1150.0,1150.0,1170.0,1170.0,1170.0,1150.0,1150.0,1340.0,980.0,1610.0,1610.0,1600.0,1710.0,1710.0,1680.0,1680.0,1670.0,1200.0,1550.0,825.0,1085.0,1240.0,1250.0,1260.0,1350.0,1230.0,1410.0,1230.0,1360.0,1360.0,1360.0,1360.0,1260.0,1260.0,1230.0,1400.0,1480.0,1320.0,1410.0,1400.0,1320.0,1540.0,640.0,795.0,1060.0,1825.0,1250.0,790.0,1100.0,1090.0,1090.0,1240.0,1550.0,1580.0,1560.0,1500.0,1220.0,1220.0,1250.0,970.0,1220.0,1250.0,1010.0,1580.0,1510.0,1520.0,1320.0,1320.0,1550.0,1550.0,930.0,1050.0,965.0,670.0,1100.0,1260.0,1070.0,970.0,1100.0,1070.0,1360.0,930.0,1010.0,1530.0,1225.0,1380.0,1510.0,1580.0,1520.0,1550.0,1440.0,1480.0,1450.0,1560.0,1560.0,1740.0,1730.0,1100.0,1050.0,1700.0,1350.0,1350.0,1350.0,1680.0,1350.0,1100.0,1520.0,900.0,1130.0,1080.0,960.0,910.0,830.0,1440.0,760.0,1200.0,1100.0,1170.0,1320.0,1320.0,1000.0,1180.0,900.0,900.0,1170.0,980.0,970.0,1140.0,1170.0,1220.0,1250.0,1140.0,1090.0,1110.0,1160.0,1190.0,1330.0,1240.0,1240.0,1200.0,960.0,1095.0,1145.0,1530.0,1660.0,1430.0,1480.0,1530.0,1530.0,1530.0,1540.0,1540.0,1560.0,1580.0,1470.0,1540.0,1550.0,1550.0,1500.0,1540.0,1540.0,1540.0,1560.0,1500.0,1560.0,1550.0,1560.0,1540.0,1470.0,1550.0,1340.0,1260.0,1260.0,1320.0,1250.0,1175.0,1100.0,1490.0,1610.0,1550.0,1350.0,1650.0,1720.0,1100.0,1100.0,1080.0,1100.0,1100.0,1100.0,1100.0,1000.0,1040.0,998.0,1032.0,850.0,1005.0,1510.0,1205.0,1350.0,1350.0,1250.0,1350.0,1250.0,1070.0,900.0,900.0,890.0,960.0,1145.0,910.0,940.0,1190.0,1110.0,1230.0,1080.0,1260.0,1490.0,1260.0,1560.0,750.0,930.0,930.0,930.0,1350.0,875.0,1594.0,1576.0,1755.0,1500.0,1640.0,1690.0,1318.0,1420.0,1273.0,1487.0,1100.0,1100.0,1240.0,1100.0,1300.0,1180.0,1150.0,1380.0,1330.0,2390.0,1240.0,1035.0,1335.0,1400.0,1035.0,1335.0,1400.0,1400.0,1387.0,955.0,955.0,905.0,1741.0,1230.0,1135.0,970.0,850.0,1350.0,1878.0,1980.0,1569.0,1556.0,1569.0,1556.0,1475.0,1533.0,1552.0,1565.0,1250.0,1020.0,1040.0,1177.0,1068.0,1045.0,1043.0,1270.0,1268.0,1202.0,820.0,1050.0,1070.0,1632.0,385.0,1150.0,1150.0,1230.0,1100.0,1100.0,1270.0,1260.0,1100.0,1230.0,1230.0,1230.0,1490.0,1390.0,1230.0,1440.0,1430.0,1240.0,1250.0,1250.0,1270.0,1270.0,1370.0,1430.0,1310.0,1230.0,1470.0,1450.0,1430.0,1410.0,1430.0,1460.0,1450.0,1440.0,1430.0,1450.0,1480.0,1430.0,1470.0,1380.0,840.0,710.0,710.0,820.0,700.0,690.0,640.0,820.0,860.0,1060.0,1060.0,1230.0,800.0,820.0,1140.0,1140.0,1020.0,1130.0,1060.0,1187.0,1060.0,1100.0,1050.0,2018.0,1238.0,1490.0,690.0,1120.0,620.0,1230.0,1230.0,1230.0,1310.0,1470.0,1340.0,1680.0,1680.0,1680.0,1080.0,1480.0,1200.0,940.0,1350.0,1130.0,1390.0,1460.0,1200.0,1310.0,1200.0,1140.0,1235.0,1080.0,940.0,1160.0,1230.0,1100.0,1100.0,1100.0,1230.0,900.0,850.0,970.0,980.0,1120.0,1070.0,1220.0,1270.0,970.0,980.0,1350.0,1220.0,1290.0,910.0,1560.0,1730.0,580.0,1080.0,940.0,920.0,1125.0,1520.0,1530.0,1510.0,1450.0,1090.0,1687.0,1250.0,990.0,820.0,940.0,1070.0,980.0,850.0,1050.0,1100.0,1190.0,820.0,940.0,980.0,850.0,1090.0,1100.0,1050.0,1020.0,809.0,1000.0,1060.0,998.0,1032.0,850.0,1005.0,1510.0,1160.0,720.0,1540.0,1200.0,820.0,1280.0,1460.0,1336.0,1530.0,840.0,840.0,975.0,1010.0,933.0,1228.0,1170.0,1515.0,1090.0,1095.0,1120.0,1120.0,1410.0,1300.0,1890.0,1430.0,1550.0],\"xaxis\":\"x\",\"yaxis\":\"y\",\"type\":\"histogram\"}],                        {\"template\":{\"data\":{\"bar\":[{\"error_x\":{\"color\":\"#2a3f5f\"},\"error_y\":{\"color\":\"#2a3f5f\"},\"marker\":{\"line\":{\"color\":\"#E5ECF6\",\"width\":0.5},\"pattern\":{\"fillmode\":\"overlay\",\"size\":10,\"solidity\":0.2}},\"type\":\"bar\"}],\"barpolar\":[{\"marker\":{\"line\":{\"color\":\"#E5ECF6\",\"width\":0.5},\"pattern\":{\"fillmode\":\"overlay\",\"size\":10,\"solidity\":0.2}},\"type\":\"barpolar\"}],\"carpet\":[{\"aaxis\":{\"endlinecolor\":\"#2a3f5f\",\"gridcolor\":\"white\",\"linecolor\":\"white\",\"minorgridcolor\":\"white\",\"startlinecolor\":\"#2a3f5f\"},\"baxis\":{\"endlinecolor\":\"#2a3f5f\",\"gridcolor\":\"white\",\"linecolor\":\"white\",\"minorgridcolor\":\"white\",\"startlinecolor\":\"#2a3f5f\"},\"type\":\"carpet\"}],\"choropleth\":[{\"colorbar\":{\"outlinewidth\":0,\"ticks\":\"\"},\"type\":\"choropleth\"}],\"contour\":[{\"colorbar\":{\"outlinewidth\":0,\"ticks\":\"\"},\"colorscale\":[[0.0,\"#0d0887\"],[0.1111111111111111,\"#46039f\"],[0.2222222222222222,\"#7201a8\"],[0.3333333333333333,\"#9c179e\"],[0.4444444444444444,\"#bd3786\"],[0.5555555555555556,\"#d8576b\"],[0.6666666666666666,\"#ed7953\"],[0.7777777777777778,\"#fb9f3a\"],[0.8888888888888888,\"#fdca26\"],[1.0,\"#f0f921\"]],\"type\":\"contour\"}],\"contourcarpet\":[{\"colorbar\":{\"outlinewidth\":0,\"ticks\":\"\"},\"type\":\"contourcarpet\"}],\"heatmap\":[{\"colorbar\":{\"outlinewidth\":0,\"ticks\":\"\"},\"colorscale\":[[0.0,\"#0d0887\"],[0.1111111111111111,\"#46039f\"],[0.2222222222222222,\"#7201a8\"],[0.3333333333333333,\"#9c179e\"],[0.4444444444444444,\"#bd3786\"],[0.5555555555555556,\"#d8576b\"],[0.6666666666666666,\"#ed7953\"],[0.7777777777777778,\"#fb9f3a\"],[0.8888888888888888,\"#fdca26\"],[1.0,\"#f0f921\"]],\"type\":\"heatmap\"}],\"heatmapgl\":[{\"colorbar\":{\"outlinewidth\":0,\"ticks\":\"\"},\"colorscale\":[[0.0,\"#0d0887\"],[0.1111111111111111,\"#46039f\"],[0.2222222222222222,\"#7201a8\"],[0.3333333333333333,\"#9c179e\"],[0.4444444444444444,\"#bd3786\"],[0.5555555555555556,\"#d8576b\"],[0.6666666666666666,\"#ed7953\"],[0.7777777777777778,\"#fb9f3a\"],[0.8888888888888888,\"#fdca26\"],[1.0,\"#f0f921\"]],\"type\":\"heatmapgl\"}],\"histogram\":[{\"marker\":{\"pattern\":{\"fillmode\":\"overlay\",\"size\":10,\"solidity\":0.2}},\"type\":\"histogram\"}],\"histogram2d\":[{\"colorbar\":{\"outlinewidth\":0,\"ticks\":\"\"},\"colorscale\":[[0.0,\"#0d0887\"],[0.1111111111111111,\"#46039f\"],[0.2222222222222222,\"#7201a8\"],[0.3333333333333333,\"#9c179e\"],[0.4444444444444444,\"#bd3786\"],[0.5555555555555556,\"#d8576b\"],[0.6666666666666666,\"#ed7953\"],[0.7777777777777778,\"#fb9f3a\"],[0.8888888888888888,\"#fdca26\"],[1.0,\"#f0f921\"]],\"type\":\"histogram2d\"}],\"histogram2dcontour\":[{\"colorbar\":{\"outlinewidth\":0,\"ticks\":\"\"},\"colorscale\":[[0.0,\"#0d0887\"],[0.1111111111111111,\"#46039f\"],[0.2222222222222222,\"#7201a8\"],[0.3333333333333333,\"#9c179e\"],[0.4444444444444444,\"#bd3786\"],[0.5555555555555556,\"#d8576b\"],[0.6666666666666666,\"#ed7953\"],[0.7777777777777778,\"#fb9f3a\"],[0.8888888888888888,\"#fdca26\"],[1.0,\"#f0f921\"]],\"type\":\"histogram2dcontour\"}],\"mesh3d\":[{\"colorbar\":{\"outlinewidth\":0,\"ticks\":\"\"},\"type\":\"mesh3d\"}],\"parcoords\":[{\"line\":{\"colorbar\":{\"outlinewidth\":0,\"ticks\":\"\"}},\"type\":\"parcoords\"}],\"pie\":[{\"automargin\":true,\"type\":\"pie\"}],\"scatter\":[{\"marker\":{\"colorbar\":{\"outlinewidth\":0,\"ticks\":\"\"}},\"type\":\"scatter\"}],\"scatter3d\":[{\"line\":{\"colorbar\":{\"outlinewidth\":0,\"ticks\":\"\"}},\"marker\":{\"colorbar\":{\"outlinewidth\":0,\"ticks\":\"\"}},\"type\":\"scatter3d\"}],\"scattercarpet\":[{\"marker\":{\"colorbar\":{\"outlinewidth\":0,\"ticks\":\"\"}},\"type\":\"scattercarpet\"}],\"scattergeo\":[{\"marker\":{\"colorbar\":{\"outlinewidth\":0,\"ticks\":\"\"}},\"type\":\"scattergeo\"}],\"scattergl\":[{\"marker\":{\"colorbar\":{\"outlinewidth\":0,\"ticks\":\"\"}},\"type\":\"scattergl\"}],\"scattermapbox\":[{\"marker\":{\"colorbar\":{\"outlinewidth\":0,\"ticks\":\"\"}},\"type\":\"scattermapbox\"}],\"scatterpolar\":[{\"marker\":{\"colorbar\":{\"outlinewidth\":0,\"ticks\":\"\"}},\"type\":\"scatterpolar\"}],\"scatterpolargl\":[{\"marker\":{\"colorbar\":{\"outlinewidth\":0,\"ticks\":\"\"}},\"type\":\"scatterpolargl\"}],\"scatterternary\":[{\"marker\":{\"colorbar\":{\"outlinewidth\":0,\"ticks\":\"\"}},\"type\":\"scatterternary\"}],\"surface\":[{\"colorbar\":{\"outlinewidth\":0,\"ticks\":\"\"},\"colorscale\":[[0.0,\"#0d0887\"],[0.1111111111111111,\"#46039f\"],[0.2222222222222222,\"#7201a8\"],[0.3333333333333333,\"#9c179e\"],[0.4444444444444444,\"#bd3786\"],[0.5555555555555556,\"#d8576b\"],[0.6666666666666666,\"#ed7953\"],[0.7777777777777778,\"#fb9f3a\"],[0.8888888888888888,\"#fdca26\"],[1.0,\"#f0f921\"]],\"type\":\"surface\"}],\"table\":[{\"cells\":{\"fill\":{\"color\":\"#EBF0F8\"},\"line\":{\"color\":\"white\"}},\"header\":{\"fill\":{\"color\":\"#C8D4E3\"},\"line\":{\"color\":\"white\"}},\"type\":\"table\"}]},\"layout\":{\"annotationdefaults\":{\"arrowcolor\":\"#2a3f5f\",\"arrowhead\":0,\"arrowwidth\":1},\"autotypenumbers\":\"strict\",\"coloraxis\":{\"colorbar\":{\"outlinewidth\":0,\"ticks\":\"\"}},\"colorscale\":{\"diverging\":[[0,\"#8e0152\"],[0.1,\"#c51b7d\"],[0.2,\"#de77ae\"],[0.3,\"#f1b6da\"],[0.4,\"#fde0ef\"],[0.5,\"#f7f7f7\"],[0.6,\"#e6f5d0\"],[0.7,\"#b8e186\"],[0.8,\"#7fbc41\"],[0.9,\"#4d9221\"],[1,\"#276419\"]],\"sequential\":[[0.0,\"#0d0887\"],[0.1111111111111111,\"#46039f\"],[0.2222222222222222,\"#7201a8\"],[0.3333333333333333,\"#9c179e\"],[0.4444444444444444,\"#bd3786\"],[0.5555555555555556,\"#d8576b\"],[0.6666666666666666,\"#ed7953\"],[0.7777777777777778,\"#fb9f3a\"],[0.8888888888888888,\"#fdca26\"],[1.0,\"#f0f921\"]],\"sequentialminus\":[[0.0,\"#0d0887\"],[0.1111111111111111,\"#46039f\"],[0.2222222222222222,\"#7201a8\"],[0.3333333333333333,\"#9c179e\"],[0.4444444444444444,\"#bd3786\"],[0.5555555555555556,\"#d8576b\"],[0.6666666666666666,\"#ed7953\"],[0.7777777777777778,\"#fb9f3a\"],[0.8888888888888888,\"#fdca26\"],[1.0,\"#f0f921\"]]},\"colorway\":[\"#636efa\",\"#EF553B\",\"#00cc96\",\"#ab63fa\",\"#FFA15A\",\"#19d3f3\",\"#FF6692\",\"#B6E880\",\"#FF97FF\",\"#FECB52\"],\"font\":{\"color\":\"#2a3f5f\"},\"geo\":{\"bgcolor\":\"white\",\"lakecolor\":\"white\",\"landcolor\":\"#E5ECF6\",\"showlakes\":true,\"showland\":true,\"subunitcolor\":\"white\"},\"hoverlabel\":{\"align\":\"left\"},\"hovermode\":\"closest\",\"mapbox\":{\"style\":\"light\"},\"paper_bgcolor\":\"white\",\"plot_bgcolor\":\"#E5ECF6\",\"polar\":{\"angularaxis\":{\"gridcolor\":\"white\",\"linecolor\":\"white\",\"ticks\":\"\"},\"bgcolor\":\"#E5ECF6\",\"radialaxis\":{\"gridcolor\":\"white\",\"linecolor\":\"white\",\"ticks\":\"\"}},\"scene\":{\"xaxis\":{\"backgroundcolor\":\"#E5ECF6\",\"gridcolor\":\"white\",\"gridwidth\":2,\"linecolor\":\"white\",\"showbackground\":true,\"ticks\":\"\",\"zerolinecolor\":\"white\"},\"yaxis\":{\"backgroundcolor\":\"#E5ECF6\",\"gridcolor\":\"white\",\"gridwidth\":2,\"linecolor\":\"white\",\"showbackground\":true,\"ticks\":\"\",\"zerolinecolor\":\"white\"},\"zaxis\":{\"backgroundcolor\":\"#E5ECF6\",\"gridcolor\":\"white\",\"gridwidth\":2,\"linecolor\":\"white\",\"showbackground\":true,\"ticks\":\"\",\"zerolinecolor\":\"white\"}},\"shapedefaults\":{\"line\":{\"color\":\"#2a3f5f\"}},\"ternary\":{\"aaxis\":{\"gridcolor\":\"white\",\"linecolor\":\"white\",\"ticks\":\"\"},\"baxis\":{\"gridcolor\":\"white\",\"linecolor\":\"white\",\"ticks\":\"\"},\"bgcolor\":\"#E5ECF6\",\"caxis\":{\"gridcolor\":\"white\",\"linecolor\":\"white\",\"ticks\":\"\"}},\"title\":{\"x\":0.05},\"xaxis\":{\"automargin\":true,\"gridcolor\":\"white\",\"linecolor\":\"white\",\"ticks\":\"\",\"title\":{\"standoff\":15},\"zerolinecolor\":\"white\",\"zerolinewidth\":2},\"yaxis\":{\"automargin\":true,\"gridcolor\":\"white\",\"linecolor\":\"white\",\"ticks\":\"\",\"title\":{\"standoff\":15},\"zerolinecolor\":\"white\",\"zerolinewidth\":2}}},\"xaxis\":{\"anchor\":\"y\",\"domain\":[0.0,1.0],\"title\":{\"text\":\"weight\"}},\"yaxis\":{\"anchor\":\"x\",\"domain\":[0.0,1.0],\"title\":{\"text\":\"count\"}},\"legend\":{\"tracegroupgap\":0},\"margin\":{\"t\":60},\"barmode\":\"relative\"},                        {\"responsive\": true}                    ).then(function(){\n",
              "                            \n",
              "var gd = document.getElementById('ae5d14d0-6a4f-40d7-998a-723e38eebeeb');\n",
              "var x = new MutationObserver(function (mutations, observer) {{\n",
              "        var display = window.getComputedStyle(gd).display;\n",
              "        if (!display || display === 'none') {{\n",
              "            console.log([gd, 'removed!']);\n",
              "            Plotly.purge(gd);\n",
              "            observer.disconnect();\n",
              "        }}\n",
              "}});\n",
              "\n",
              "// Listen for the removal of the full notebook cells\n",
              "var notebookContainer = gd.closest('#notebook-container');\n",
              "if (notebookContainer) {{\n",
              "    x.observe(notebookContainer, {childList: true});\n",
              "}}\n",
              "\n",
              "// Listen for the clearing of the current output cell\n",
              "var outputEl = gd.closest('.output');\n",
              "if (outputEl) {{\n",
              "    x.observe(outputEl, {childList: true});\n",
              "}}\n",
              "\n",
              "                        })                };                            </script>        </div>\n",
              "</body>\n",
              "</html>"
            ]
          },
          "metadata": {}
        }
      ],
      "source": [
        "px.histogram(gran_turismo, x='weight')"
      ]
    },
    {
      "cell_type": "code",
      "execution_count": 97,
      "id": "0ed9e386",
      "metadata": {
        "id": "0ed9e386",
        "outputId": "26b9a105-f1e1-40eb-fc2f-b2afbaa1c387",
        "colab": {
          "base_uri": "https://localhost:8080/",
          "height": 542
        }
      },
      "outputs": [
        {
          "output_type": "display_data",
          "data": {
            "text/html": [
              "<html>\n",
              "<head><meta charset=\"utf-8\" /></head>\n",
              "<body>\n",
              "    <div>            <script src=\"https://cdnjs.cloudflare.com/ajax/libs/mathjax/2.7.5/MathJax.js?config=TeX-AMS-MML_SVG\"></script><script type=\"text/javascript\">if (window.MathJax) {MathJax.Hub.Config({SVG: {font: \"STIX-Web\"}});}</script>                <script type=\"text/javascript\">window.PlotlyConfig = {MathJaxConfig: 'local'};</script>\n",
              "        <script src=\"https://cdn.plot.ly/plotly-2.8.3.min.js\"></script>                <div id=\"2937bd0e-b6ac-4e77-9038-40d95ce5a6f0\" class=\"plotly-graph-div\" style=\"height:525px; width:100%;\"></div>            <script type=\"text/javascript\">                                    window.PLOTLYENV=window.PLOTLYENV || {};                                    if (document.getElementById(\"2937bd0e-b6ac-4e77-9038-40d95ce5a6f0\")) {                    Plotly.newPlot(                        \"2937bd0e-b6ac-4e77-9038-40d95ce5a6f0\",                        [{\"hovertemplate\":\"variable=0<br>index=%{x}<br>value=%{y}<extra></extra>\",\"legendgroup\":\"0\",\"line\":{\"color\":\"#636efa\",\"dash\":\"solid\"},\"marker\":{\"symbol\":\"circle\"},\"mode\":\"lines\",\"name\":\"0\",\"orientation\":\"v\",\"showlegend\":true,\"x\":[0,1,2,3,4,5,6,7,8,9,10,11,12,13,14,15,16,17,18,19,20,21,22,23,24,25,26,27,28,29,30,31,32,33,34,35,36,37,38,39,40,41,42,43,44,45,46,47,48,49,50,51,52,53,54,55,56,57,58,59,60,61,62,63,64,65,66,67,68,69,70,71,72,73,74,75,76,77,78,79,80,81,82,83,84,85,86,87,88,89,90,91,92,93,94,95,96,97,98,99],\"xaxis\":\"x\",\"y\":[0,1,2,3,4,5,6,7,8,9,10,11,12,13,14,15,16,17,18,19,20,21,22,23,24,25,26,27,28,29,30,31,32,33,34,35,36,37,38,39,40,41,42,43,44,45,46,47,48,49,50,51,52,53,54,55,56,57,58,59,60,61,62,63,64,65,66,67,68,69,70,71,72,73,74,75,76,77,78,79,80,81,82,83,84,85,86,87,88,89,90,91,92,93,94,95,96,97,98,99],\"yaxis\":\"y\",\"type\":\"scatter\"}],                        {\"template\":{\"data\":{\"bar\":[{\"error_x\":{\"color\":\"#2a3f5f\"},\"error_y\":{\"color\":\"#2a3f5f\"},\"marker\":{\"line\":{\"color\":\"#E5ECF6\",\"width\":0.5},\"pattern\":{\"fillmode\":\"overlay\",\"size\":10,\"solidity\":0.2}},\"type\":\"bar\"}],\"barpolar\":[{\"marker\":{\"line\":{\"color\":\"#E5ECF6\",\"width\":0.5},\"pattern\":{\"fillmode\":\"overlay\",\"size\":10,\"solidity\":0.2}},\"type\":\"barpolar\"}],\"carpet\":[{\"aaxis\":{\"endlinecolor\":\"#2a3f5f\",\"gridcolor\":\"white\",\"linecolor\":\"white\",\"minorgridcolor\":\"white\",\"startlinecolor\":\"#2a3f5f\"},\"baxis\":{\"endlinecolor\":\"#2a3f5f\",\"gridcolor\":\"white\",\"linecolor\":\"white\",\"minorgridcolor\":\"white\",\"startlinecolor\":\"#2a3f5f\"},\"type\":\"carpet\"}],\"choropleth\":[{\"colorbar\":{\"outlinewidth\":0,\"ticks\":\"\"},\"type\":\"choropleth\"}],\"contour\":[{\"colorbar\":{\"outlinewidth\":0,\"ticks\":\"\"},\"colorscale\":[[0.0,\"#0d0887\"],[0.1111111111111111,\"#46039f\"],[0.2222222222222222,\"#7201a8\"],[0.3333333333333333,\"#9c179e\"],[0.4444444444444444,\"#bd3786\"],[0.5555555555555556,\"#d8576b\"],[0.6666666666666666,\"#ed7953\"],[0.7777777777777778,\"#fb9f3a\"],[0.8888888888888888,\"#fdca26\"],[1.0,\"#f0f921\"]],\"type\":\"contour\"}],\"contourcarpet\":[{\"colorbar\":{\"outlinewidth\":0,\"ticks\":\"\"},\"type\":\"contourcarpet\"}],\"heatmap\":[{\"colorbar\":{\"outlinewidth\":0,\"ticks\":\"\"},\"colorscale\":[[0.0,\"#0d0887\"],[0.1111111111111111,\"#46039f\"],[0.2222222222222222,\"#7201a8\"],[0.3333333333333333,\"#9c179e\"],[0.4444444444444444,\"#bd3786\"],[0.5555555555555556,\"#d8576b\"],[0.6666666666666666,\"#ed7953\"],[0.7777777777777778,\"#fb9f3a\"],[0.8888888888888888,\"#fdca26\"],[1.0,\"#f0f921\"]],\"type\":\"heatmap\"}],\"heatmapgl\":[{\"colorbar\":{\"outlinewidth\":0,\"ticks\":\"\"},\"colorscale\":[[0.0,\"#0d0887\"],[0.1111111111111111,\"#46039f\"],[0.2222222222222222,\"#7201a8\"],[0.3333333333333333,\"#9c179e\"],[0.4444444444444444,\"#bd3786\"],[0.5555555555555556,\"#d8576b\"],[0.6666666666666666,\"#ed7953\"],[0.7777777777777778,\"#fb9f3a\"],[0.8888888888888888,\"#fdca26\"],[1.0,\"#f0f921\"]],\"type\":\"heatmapgl\"}],\"histogram\":[{\"marker\":{\"pattern\":{\"fillmode\":\"overlay\",\"size\":10,\"solidity\":0.2}},\"type\":\"histogram\"}],\"histogram2d\":[{\"colorbar\":{\"outlinewidth\":0,\"ticks\":\"\"},\"colorscale\":[[0.0,\"#0d0887\"],[0.1111111111111111,\"#46039f\"],[0.2222222222222222,\"#7201a8\"],[0.3333333333333333,\"#9c179e\"],[0.4444444444444444,\"#bd3786\"],[0.5555555555555556,\"#d8576b\"],[0.6666666666666666,\"#ed7953\"],[0.7777777777777778,\"#fb9f3a\"],[0.8888888888888888,\"#fdca26\"],[1.0,\"#f0f921\"]],\"type\":\"histogram2d\"}],\"histogram2dcontour\":[{\"colorbar\":{\"outlinewidth\":0,\"ticks\":\"\"},\"colorscale\":[[0.0,\"#0d0887\"],[0.1111111111111111,\"#46039f\"],[0.2222222222222222,\"#7201a8\"],[0.3333333333333333,\"#9c179e\"],[0.4444444444444444,\"#bd3786\"],[0.5555555555555556,\"#d8576b\"],[0.6666666666666666,\"#ed7953\"],[0.7777777777777778,\"#fb9f3a\"],[0.8888888888888888,\"#fdca26\"],[1.0,\"#f0f921\"]],\"type\":\"histogram2dcontour\"}],\"mesh3d\":[{\"colorbar\":{\"outlinewidth\":0,\"ticks\":\"\"},\"type\":\"mesh3d\"}],\"parcoords\":[{\"line\":{\"colorbar\":{\"outlinewidth\":0,\"ticks\":\"\"}},\"type\":\"parcoords\"}],\"pie\":[{\"automargin\":true,\"type\":\"pie\"}],\"scatter\":[{\"marker\":{\"colorbar\":{\"outlinewidth\":0,\"ticks\":\"\"}},\"type\":\"scatter\"}],\"scatter3d\":[{\"line\":{\"colorbar\":{\"outlinewidth\":0,\"ticks\":\"\"}},\"marker\":{\"colorbar\":{\"outlinewidth\":0,\"ticks\":\"\"}},\"type\":\"scatter3d\"}],\"scattercarpet\":[{\"marker\":{\"colorbar\":{\"outlinewidth\":0,\"ticks\":\"\"}},\"type\":\"scattercarpet\"}],\"scattergeo\":[{\"marker\":{\"colorbar\":{\"outlinewidth\":0,\"ticks\":\"\"}},\"type\":\"scattergeo\"}],\"scattergl\":[{\"marker\":{\"colorbar\":{\"outlinewidth\":0,\"ticks\":\"\"}},\"type\":\"scattergl\"}],\"scattermapbox\":[{\"marker\":{\"colorbar\":{\"outlinewidth\":0,\"ticks\":\"\"}},\"type\":\"scattermapbox\"}],\"scatterpolar\":[{\"marker\":{\"colorbar\":{\"outlinewidth\":0,\"ticks\":\"\"}},\"type\":\"scatterpolar\"}],\"scatterpolargl\":[{\"marker\":{\"colorbar\":{\"outlinewidth\":0,\"ticks\":\"\"}},\"type\":\"scatterpolargl\"}],\"scatterternary\":[{\"marker\":{\"colorbar\":{\"outlinewidth\":0,\"ticks\":\"\"}},\"type\":\"scatterternary\"}],\"surface\":[{\"colorbar\":{\"outlinewidth\":0,\"ticks\":\"\"},\"colorscale\":[[0.0,\"#0d0887\"],[0.1111111111111111,\"#46039f\"],[0.2222222222222222,\"#7201a8\"],[0.3333333333333333,\"#9c179e\"],[0.4444444444444444,\"#bd3786\"],[0.5555555555555556,\"#d8576b\"],[0.6666666666666666,\"#ed7953\"],[0.7777777777777778,\"#fb9f3a\"],[0.8888888888888888,\"#fdca26\"],[1.0,\"#f0f921\"]],\"type\":\"surface\"}],\"table\":[{\"cells\":{\"fill\":{\"color\":\"#EBF0F8\"},\"line\":{\"color\":\"white\"}},\"header\":{\"fill\":{\"color\":\"#C8D4E3\"},\"line\":{\"color\":\"white\"}},\"type\":\"table\"}]},\"layout\":{\"annotationdefaults\":{\"arrowcolor\":\"#2a3f5f\",\"arrowhead\":0,\"arrowwidth\":1},\"autotypenumbers\":\"strict\",\"coloraxis\":{\"colorbar\":{\"outlinewidth\":0,\"ticks\":\"\"}},\"colorscale\":{\"diverging\":[[0,\"#8e0152\"],[0.1,\"#c51b7d\"],[0.2,\"#de77ae\"],[0.3,\"#f1b6da\"],[0.4,\"#fde0ef\"],[0.5,\"#f7f7f7\"],[0.6,\"#e6f5d0\"],[0.7,\"#b8e186\"],[0.8,\"#7fbc41\"],[0.9,\"#4d9221\"],[1,\"#276419\"]],\"sequential\":[[0.0,\"#0d0887\"],[0.1111111111111111,\"#46039f\"],[0.2222222222222222,\"#7201a8\"],[0.3333333333333333,\"#9c179e\"],[0.4444444444444444,\"#bd3786\"],[0.5555555555555556,\"#d8576b\"],[0.6666666666666666,\"#ed7953\"],[0.7777777777777778,\"#fb9f3a\"],[0.8888888888888888,\"#fdca26\"],[1.0,\"#f0f921\"]],\"sequentialminus\":[[0.0,\"#0d0887\"],[0.1111111111111111,\"#46039f\"],[0.2222222222222222,\"#7201a8\"],[0.3333333333333333,\"#9c179e\"],[0.4444444444444444,\"#bd3786\"],[0.5555555555555556,\"#d8576b\"],[0.6666666666666666,\"#ed7953\"],[0.7777777777777778,\"#fb9f3a\"],[0.8888888888888888,\"#fdca26\"],[1.0,\"#f0f921\"]]},\"colorway\":[\"#636efa\",\"#EF553B\",\"#00cc96\",\"#ab63fa\",\"#FFA15A\",\"#19d3f3\",\"#FF6692\",\"#B6E880\",\"#FF97FF\",\"#FECB52\"],\"font\":{\"color\":\"#2a3f5f\"},\"geo\":{\"bgcolor\":\"white\",\"lakecolor\":\"white\",\"landcolor\":\"#E5ECF6\",\"showlakes\":true,\"showland\":true,\"subunitcolor\":\"white\"},\"hoverlabel\":{\"align\":\"left\"},\"hovermode\":\"closest\",\"mapbox\":{\"style\":\"light\"},\"paper_bgcolor\":\"white\",\"plot_bgcolor\":\"#E5ECF6\",\"polar\":{\"angularaxis\":{\"gridcolor\":\"white\",\"linecolor\":\"white\",\"ticks\":\"\"},\"bgcolor\":\"#E5ECF6\",\"radialaxis\":{\"gridcolor\":\"white\",\"linecolor\":\"white\",\"ticks\":\"\"}},\"scene\":{\"xaxis\":{\"backgroundcolor\":\"#E5ECF6\",\"gridcolor\":\"white\",\"gridwidth\":2,\"linecolor\":\"white\",\"showbackground\":true,\"ticks\":\"\",\"zerolinecolor\":\"white\"},\"yaxis\":{\"backgroundcolor\":\"#E5ECF6\",\"gridcolor\":\"white\",\"gridwidth\":2,\"linecolor\":\"white\",\"showbackground\":true,\"ticks\":\"\",\"zerolinecolor\":\"white\"},\"zaxis\":{\"backgroundcolor\":\"#E5ECF6\",\"gridcolor\":\"white\",\"gridwidth\":2,\"linecolor\":\"white\",\"showbackground\":true,\"ticks\":\"\",\"zerolinecolor\":\"white\"}},\"shapedefaults\":{\"line\":{\"color\":\"#2a3f5f\"}},\"ternary\":{\"aaxis\":{\"gridcolor\":\"white\",\"linecolor\":\"white\",\"ticks\":\"\"},\"baxis\":{\"gridcolor\":\"white\",\"linecolor\":\"white\",\"ticks\":\"\"},\"bgcolor\":\"#E5ECF6\",\"caxis\":{\"gridcolor\":\"white\",\"linecolor\":\"white\",\"ticks\":\"\"}},\"title\":{\"x\":0.05},\"xaxis\":{\"automargin\":true,\"gridcolor\":\"white\",\"linecolor\":\"white\",\"ticks\":\"\",\"title\":{\"standoff\":15},\"zerolinecolor\":\"white\",\"zerolinewidth\":2},\"yaxis\":{\"automargin\":true,\"gridcolor\":\"white\",\"linecolor\":\"white\",\"ticks\":\"\",\"title\":{\"standoff\":15},\"zerolinecolor\":\"white\",\"zerolinewidth\":2}}},\"xaxis\":{\"anchor\":\"y\",\"domain\":[0.0,1.0],\"title\":{\"text\":\"index\"}},\"yaxis\":{\"anchor\":\"x\",\"domain\":[0.0,1.0],\"title\":{\"text\":\"value\"}},\"legend\":{\"title\":{\"text\":\"variable\"},\"tracegroupgap\":0},\"margin\":{\"t\":60}},                        {\"responsive\": true}                    ).then(function(){\n",
              "                            \n",
              "var gd = document.getElementById('2937bd0e-b6ac-4e77-9038-40d95ce5a6f0');\n",
              "var x = new MutationObserver(function (mutations, observer) {{\n",
              "        var display = window.getComputedStyle(gd).display;\n",
              "        if (!display || display === 'none') {{\n",
              "            console.log([gd, 'removed!']);\n",
              "            Plotly.purge(gd);\n",
              "            observer.disconnect();\n",
              "        }}\n",
              "}});\n",
              "\n",
              "// Listen for the removal of the full notebook cells\n",
              "var notebookContainer = gd.closest('#notebook-container');\n",
              "if (notebookContainer) {{\n",
              "    x.observe(notebookContainer, {childList: true});\n",
              "}}\n",
              "\n",
              "// Listen for the clearing of the current output cell\n",
              "var outputEl = gd.closest('.output');\n",
              "if (outputEl) {{\n",
              "    x.observe(outputEl, {childList: true});\n",
              "}}\n",
              "\n",
              "                        })                };                            </script>        </div>\n",
              "</body>\n",
              "</html>"
            ]
          },
          "metadata": {}
        }
      ],
      "source": [
        "px.line(np.arange(0, 100))"
      ]
    },
    {
      "cell_type": "code",
      "execution_count": 98,
      "id": "d124ad2c",
      "metadata": {
        "id": "d124ad2c",
        "outputId": "8e541f66-1c02-4d49-b727-5afa5f09892d",
        "colab": {
          "base_uri": "https://localhost:8080/",
          "height": 542
        }
      },
      "outputs": [
        {
          "output_type": "display_data",
          "data": {
            "text/html": [
              "<html>\n",
              "<head><meta charset=\"utf-8\" /></head>\n",
              "<body>\n",
              "    <div>            <script src=\"https://cdnjs.cloudflare.com/ajax/libs/mathjax/2.7.5/MathJax.js?config=TeX-AMS-MML_SVG\"></script><script type=\"text/javascript\">if (window.MathJax) {MathJax.Hub.Config({SVG: {font: \"STIX-Web\"}});}</script>                <script type=\"text/javascript\">window.PlotlyConfig = {MathJaxConfig: 'local'};</script>\n",
              "        <script src=\"https://cdn.plot.ly/plotly-2.8.3.min.js\"></script>                <div id=\"8e338742-2b24-4e04-83b7-3ecf2cac153c\" class=\"plotly-graph-div\" style=\"height:525px; width:100%;\"></div>            <script type=\"text/javascript\">                                    window.PLOTLYENV=window.PLOTLYENV || {};                                    if (document.getElementById(\"8e338742-2b24-4e04-83b7-3ecf2cac153c\")) {                    Plotly.newPlot(                        \"8e338742-2b24-4e04-83b7-3ecf2cac153c\",                        [{\"alignmentgroup\":\"True\",\"bingroup\":\"x\",\"histfunc\":\"sum\",\"hovertemplate\":\"torque=%{x}<br>sum of hp=%{y}<extra></extra>\",\"legendgroup\":\"\",\"marker\":{\"color\":\"#636efa\",\"pattern\":{\"shape\":\"\"}},\"name\":\"\",\"offsetgroup\":\"\",\"orientation\":\"v\",\"showlegend\":false,\"x\":[651.0,495.0,180.0,230.0,315.0,314.0,176.0,304.0,284.0,304.0,192.0,181.0,300.0,180.0,294.0,221.0,221.0,480.0,321.0,300.0,265.0,143.0,131.0,201.0,139.0,265.0,760.0,148.0,578.0,511.0,410.0,235.0,542.0,569.0,569.0,1050.0,750.0,570.0,745.0,542.0,126.0,320.0,500.0,750.0,1100.0,1176.0,900.0,900.0,784.0,430.0,530.0,540.0,500.0,500.0,500.0,700.0,440.0,560.0,560.0,650.0,280.0,410.0,400.0,590.0,480.0,280.0,320.0,319.0,350.0,289.0,490.0,392.0,206.0,392.0,85.0,12.0,667.0,216.0,680.0,340.0,200.0,400.0,240.0,225.0,300.0,235.0,500.0,350.0,365.0,370.0,400.0,400.0,500.0,500.0,390.0,480.0,550.0,550.0,520.0,520.0,670.0,676.0,300.0,515.0,365.0,500.0,760.0,1254.0,1254.0,488.0,794.0,746.0,520.0,122.0,515.0,447.0,350.0,569.0,515.0,393.0,440.0,677.0,670.0,302.0,474.0,461.0,400.0,623.0,515.0,623.0,515.0,485.0,542.0,636.0,503.0,818.0,555.0,563.0,440.0,644.0,528.0,310.0,226.0,346.0,30.0,150.0,206.0,568.0,294.0,267.0,250.0,147.0,735.0,262.0,110.0,110.0,100.0,100.0,61.0,103.0,100.0,105.0,50.0,103.0,94.0,94.0,127.0,94.0,94.0,127.0,310.0,664.0,651.0,650.0,181.0,522.0,431.0,470.0,540.0,451.0,608.0,225.0,657.0,576.0,465.0,686.0,500.0,102.0,35.0,30.0,30.0,39.0,164.0,310.0,74.0,164.0,1300.0,623.0,490.0,550.0,546.0,319.0,336.0,195.0,677.0,677.0,456.0,588.0,105.0,637.0,515.0,433.0,521.0,433.0,291.0,610.0,855.0,312.0,764.0,587.0,380.0,711.0,676.0,549.0,677.0,826.0,465.0,465.0,196.0,113.0,166.0,287.0,221.0,206.0,392.0,588.0,135.0,60.0,60.0,60.0,160.0,129.0,121.0,157.0,157.0,157.0,157.0,215.0,160.0,160.0,202.0,202.0,196.0,152.0,157.0,145.0,392.0,218.0,588.0,145.0,119.0,392.0,92.0,121.0,181.0,186.0,186.0,206.0,206.0,119.0,392.0,28.0,392.0,196.0,392.0,29.0,304.0,294.0,294.0,294.0,304.0,304.0,588.0,637.0,304.0,294.0,304.0,304.0,304.0,304.0,304.0,218.0,219.0,219.0,221.0,221.0,221.0,392.0,392.0,588.0,218.0,218.0,221.0,218.0,218.0,218.0,218.0,218.0,218.0,218.0,218.0,218.0,218.0,218.0,218.0,218.0,218.0,45.0,51.0,66.0,392.0,588.0,43.0,29.0,392.0,348.0,520.0,245.0,396.0,245.0,191.0,245.0,510.0,451.0,186.0,363.0,352.0,352.0,142.0,142.0,167.0,353.0,553.0,625.0,523.0,534.0,643.0,644.0,780.0,420.0,625.0,525.0,553.0,679.0,1356.0,2033.0,400.0,310.0,690.0,491.0,361.0,630.0,630.0,540.0,368.0,660.0,670.0,660.0,686.0,660.0,304.0,426.0,451.0,225.0,262.0,340.0,510.0,510.0,510.0,451.0,431.0,451.0,200.0,216.0,245.0,294.0,505.0,461.0,479.0,480.0,510.0,377.0,429.0,429.0,510.0,118.0,786.0,557.0,146.0,168.0,160.0,165.0,181.0,175.0,189.0,168.0,400.0,298.0,400.0,400.0,400.0,108.0,153.0,196.0,174.0,173.0,149.0,219.0,220.0,240.0,240.0,240.0,427.0,94.0,140.0,107.0,490.0,130.0,139.0,140.0,179.0,608.0,637.0,215.0,226.0,215.0,85.0,214.0,24.0,130.0,139.0,127.0,140.0,139.0,137.0,137.0,157.0,157.0,157.0,157.0,157.0,177.0,180.0,179.0,137.0,163.0,142.0,170.0,170.0,137.0,157.0,137.0,163.0,142.0,170.0,170.0,137.0,157.0,157.0,157.0,157.0,157.0,157.0,157.0,157.0,157.0,215.0,379.0,177.0,245.0,270.0,270.0,314.0,294.0,294.0,314.0,294.0,314.0,314.0,294.0,294.0,314.0,294.0,294.0,294.0,294.0,221.0,207.0,221.0,216.0,216.0,163.0,142.0,170.0,170.0,189.0,245.0,274.0,294.0,294.0,294.0,294.0,294.0,294.0,294.0,294.0,651.0,651.0,651.0,657.0,600.0,245.0,274.0,284.0,150.0,800.0,819.0,600.0,530.0,510.0,700.0,460.0,460.0,700.0,570.0,800.0,1000.0,280.0,780.0,780.0,650.0,600.0,666.0,784.0,581.0,588.0,588.0,397.0,426.0,426.0,274.0,274.0,274.0,274.0,274.0,274.0,426.0,426.0,426.0,426.0,343.0,132.0,1014.0,353.0,289.0,277.0,200.0,200.0,200.0,200.0,200.0,186.0,191.0,294.0,142.0,274.0,274.0,274.0,426.0,426.0,426.0,426.0,426.0,441.0,363.0,139.0,216.0,309.0,309.0,309.0,353.0,490.0,400.0,540.0,372.0,372.0,372.0,372.0,372.0,372.0,510.0,382.0,343.0,382.0,392.0,400.0,392.0,421.0,74.0,119.0,167.0,353.0,343.0,92.0,180.0,887.0,887.0,338.0,468.0,372.0,475.0,431.0,274.0,274.0,274.0,235.0,274.0,274.0,206.0,388.0,388.0,388.0,371.0,371.0,363.0,363.0,129.0,147.0,152.0,74.0,686.0,490.0,137.0,106.0,510.0,137.0,588.0,176.0,206.0,365.0,225.0,333.0,388.0,388.0,388.0,363.0,363.0,358.0,363.0,475.0,392.0,588.0,632.0,510.0,588.0,632.0,637.0,637.0,637.0,588.0,689.0,686.0,280.0,121.0,470.0,706.0,134.0,121.0,106.0,847.0,74.0,706.0,686.0,186.0,206.0,206.0,706.0,490.0,784.0,784.0,274.0,132.0,235.0,225.0,274.0,274.0,274.0,225.0,159.0,178.0,188.0,188.0,192.0,274.0,274.0,192.0,113.0,167.0,176.0,363.0,363.0,353.0,353.0,368.0,368.0,368.0,392.0,392.0,392.0,392.0,353.0,368.0,392.0,392.0,353.0,368.0,368.0,368.0,392.0,353.0,392.0,392.0,392.0,368.0,353.0,392.0,245.0,265.0,265.0,225.0,245.0,225.0,176.0,323.0,358.0,353.0,153.0,343.0,368.0,510.0,686.0,735.0,510.0,706.0,510.0,706.0,500.0,280.0,125.0,148.0,203.0,250.0,300.0,426.0,1000.0,1100.0,570.0,750.0,750.0,710.0,600.0,680.0,132.0,142.0,255.0,490.0,440.0,190.0,202.0,535.0,183.0,240.0,190.0,190.0,285.0,343.0,1200.0,1200.0,1200.0,240.0,843.0,467.0,651.0,664.0,271.0,435.0,495.0,305.0,580.0,176.0,648.0,323.0,323.0,469.0,323.0,360.0,480.0,553.0,685.0,375.0,508.0,215.0,203.0,300.0,300.0,203.0,300.0,300.0,300.0,360.0,390.0,390.0,421.0,289.0,191.0,200.0,221.0,117.0,331.0,569.0,637.0,663.0,814.0,663.0,814.0,676.0,712.0,760.0,725.0,714.0,141.0,141.0,245.0,651.0,662.0,461.0,446.0,446.0,393.0,158.0,211.0,480.0,1128.0,29.0,441.0,441.0,205.0,392.0,392.0,363.0,353.0,392.0,470.0,470.0,588.0,421.0,421.0,309.0,394.0,372.0,319.0,343.0,353.0,353.0,353.0,412.0,372.0,353.0,650.0,421.0,421.0,372.0,343.0,343.0,304.0,343.0,343.0,343.0,343.0,304.0,338.0,431.0,490.0,83.0,103.0,103.0,103.0,85.0,103.0,138.0,106.0,106.0,148.0,148.0,588.0,931.0,106.0,188.0,271.0,881.0,447.0,434.0,393.0,393.0,420.0,365.0,600.0,370.0,412.0,196.0,176.0,725.0,205.0,205.0,205.0,200.0,294.0,216.0,431.0,451.0,451.0,111.0,323.0,169.0,142.0,240.0,186.0,304.0,304.0,490.0,191.0,206.0,181.0,235.0,162.0,149.0,180.0,510.0,637.0,637.0,637.0,205.0,650.0,784.0,170.0,170.0,149.0,186.0,206.0,304.0,170.0,170.0,142.0,115.0,115.0,132.0,377.0,429.0,67.0,162.0,149.0,157.0,441.0,363.0,358.0,451.0,284.0,510.0,382.0,170.0,121.0,95.0,143.0,141.0,196.0,123.0,441.0,588.0,180.0,95.0,143.0,196.0,123.0,510.0,637.0,141.0,141.0,112.0,500.0,300.0,125.0,148.0,203.0,250.0,300.0,82.0,67.0,270.0,665.0,137.0,210.0,319.0,280.0,330.0,100.0,140.0,152.0,152.0,126.0,170.0,270.0,319.0,152.0,82.0,340.0,340.0,330.0,620.0,190.0,319.0,330.0],\"xaxis\":\"x\",\"y\":[478.0,430.0,133.0,153.0,260.0,260.0,195.0,290.0,270.0,290.0,200.0,148.0,246.0,148.0,414.0,187.0,187.0,444.0,256.0,237.0,217.0,113.0,110.0,153.0,108.0,215.0,582.0,123.0,444.0,513.0,381.0,259.0,420.0,450.0,450.0,800.0,749.0,510.0,550.0,459.0,74.0,246.0,454.0,601.0,650.0,665.0,532.0,517.0,580.0,414.0,518.0,527.0,560.0,562.0,562.0,759.0,380.0,444.0,444.0,572.0,221.0,339.0,261.0,590.0,455.0,222.0,246.0,246.0,268.0,200.0,296.0,296.0,201.0,296.0,70.0,30.0,999.0,165.0,565.0,161.0,148.0,302.0,170.0,256.0,254.0,148.0,500.0,316.0,338.0,355.0,414.0,434.0,500.0,500.0,375.0,444.0,425.0,425.0,500.0,500.0,572.0,541.0,228.0,508.0,338.0,394.0,623.0,956.0,956.0,276.0,556.0,556.0,433.0,138.0,420.0,230.0,319.0,426.0,300.0,290.0,285.0,450.0,620.0,150.0,249.0,330.0,305.0,440.0,300.0,454.0,350.0,380.0,405.0,504.0,375.0,638.0,325.0,375.0,290.0,480.0,340.0,215.0,150.0,249.0,12.0,108.0,177.0,315.0,207.0,194.0,295.0,106.0,560.0,197.0,63.0,63.0,63.0,63.0,54.0,63.0,63.0,63.0,31.0,63.0,59.0,59.0,118.0,59.0,59.0,118.0,300.0,425.0,375.0,425.0,138.0,435.0,336.0,488.0,546.0,343.0,595.0,185.0,639.0,457.0,480.0,765.0,382.0,68.0,18.0,18.0,18.0,18.0,128.0,220.0,44.0,129.0,386.0,599.0,300.0,301.0,300.0,222.0,252.0,171.0,550.0,533.0,344.0,493.0,59.0,489.0,444.0,296.0,385.0,300.0,246.0,380.0,662.0,235.0,897.0,1193.0,799.0,599.0,572.0,454.0,548.0,552.0,328.0,328.0,165.0,108.0,118.0,240.0,217.0,217.0,473.0,493.0,108.0,63.0,63.0,63.0,108.0,99.0,84.0,168.0,168.0,168.0,168.0,222.0,182.0,182.0,212.0,212.0,197.0,158.0,168.0,112.0,473.0,158.0,493.0,117.0,85.0,493.0,69.0,87.0,197.0,197.0,197.0,217.0,217.0,85.0,493.0,30.0,473.0,222.0,473.0,31.0,276.0,276.0,276.0,276.0,276.0,276.0,493.0,542.0,276.0,276.0,276.0,276.0,276.0,276.0,276.0,158.0,197.0,197.0,217.0,217.0,217.0,493.0,473.0,493.0,246.0,246.0,229.0,246.0,246.0,246.0,246.0,246.0,246.0,246.0,246.0,246.0,246.0,246.0,246.0,246.0,246.0,43.0,56.0,69.0,473.0,493.0,31.0,31.0,493.0,146.0,296.0,165.0,344.0,173.0,153.0,173.0,535.0,330.0,148.0,276.0,298.0,256.0,118.0,118.0,133.0,265.0,399.0,503.0,495.0,506.0,542.0,542.0,749.0,300.0,503.0,370.0,400.0,542.0,1038.0,861.0,296.0,237.0,669.0,436.0,363.0,557.0,611.0,535.0,339.0,611.0,622.0,641.0,574.0,630.0,207.0,296.0,450.0,185.0,221.0,237.0,473.0,473.0,473.0,276.0,276.0,276.0,158.0,207.0,276.0,217.0,417.0,612.0,535.0,545.0,473.0,276.0,276.0,276.0,473.0,167.0,594.0,377.0,104.0,120.0,134.0,118.0,189.0,156.0,190.0,120.0,349.0,215.0,350.0,349.0,349.0,81.0,126.0,200.0,143.0,158.0,113.0,161.0,168.0,173.0,181.0,181.0,389.0,61.0,89.0,76.0,434.0,108.0,126.0,111.0,168.0,690.0,739.0,170.0,168.0,175.0,63.0,169.0,20.0,108.0,126.0,99.0,111.0,111.0,118.0,118.0,128.0,128.0,128.0,128.0,128.0,163.0,143.0,168.0,118.0,143.0,123.0,158.0,158.0,118.0,128.0,118.0,143.0,123.0,158.0,158.0,118.0,128.0,128.0,128.0,128.0,128.0,128.0,128.0,128.0,128.0,175.0,296.0,163.0,182.0,202.0,202.0,276.0,251.0,251.0,276.0,251.0,276.0,276.0,261.0,261.0,276.0,251.0,251.0,251.0,261.0,207.0,246.0,207.0,246.0,246.0,143.0,123.0,158.0,158.0,168.0,182.0,212.0,251.0,251.0,251.0,261.0,251.0,251.0,251.0,261.0,627.0,600.0,600.0,641.0,592.0,232.0,212.0,214.0,101.0,577.0,591.0,451.0,362.0,347.0,469.0,302.0,302.0,493.0,388.0,493.0,603.0,193.0,616.0,617.0,553.0,553.0,581.0,710.0,310.0,592.0,592.0,394.0,276.0,276.0,222.0,222.0,222.0,222.0,222.0,222.0,276.0,276.0,276.0,276.0,237.0,97.0,503.0,263.0,227.0,210.0,197.0,197.0,197.0,197.0,197.0,168.0,177.0,202.0,123.0,222.0,222.0,222.0,276.0,276.0,276.0,276.0,276.0,334.0,276.0,108.0,158.0,246.0,256.0,266.0,276.0,280.0,276.0,296.0,276.0,276.0,276.0,276.0,276.0,276.0,298.0,276.0,268.0,276.0,276.0,276.0,276.0,276.0,63.0,78.0,173.0,260.0,343.0,64.0,63.0,897.0,870.0,266.0,394.0,301.0,444.0,394.0,202.0,202.0,217.0,237.0,202.0,217.0,148.0,276.0,276.0,276.0,283.0,283.0,276.0,276.0,91.0,104.0,128.0,51.0,454.0,542.0,97.0,81.0,493.0,118.0,493.0,143.0,148.0,331.0,143.0,227.0,276.0,276.0,276.0,276.0,276.0,309.0,276.0,444.0,321.0,473.0,542.0,493.0,542.0,544.0,542.0,542.0,542.0,478.0,592.0,454.0,107.0,89.0,444.0,458.0,108.0,89.0,78.0,735.0,51.0,493.0,454.0,148.0,201.0,201.0,641.0,345.0,789.0,789.0,202.0,89.0,237.0,173.0,202.0,217.0,217.0,173.0,133.0,138.0,158.0,158.0,163.0,246.0,246.0,163.0,69.0,123.0,158.0,276.0,328.0,276.0,276.0,276.0,276.0,276.0,276.0,276.0,276.0,276.0,276.0,276.0,276.0,276.0,276.0,276.0,276.0,276.0,276.0,276.0,276.0,276.0,276.0,276.0,276.0,276.0,207.0,212.0,212.0,177.0,202.0,187.0,158.0,256.0,311.0,268.0,93.0,276.0,276.0,493.0,454.0,478.0,493.0,493.0,493.0,493.0,454.0,414.0,89.0,105.0,145.0,197.0,208.0,319.0,720.0,730.0,388.0,542.0,547.0,739.0,877.0,765.0,102.0,116.0,194.0,450.0,345.0,134.0,175.0,300.0,138.0,173.0,135.0,135.0,204.0,513.0,700.0,700.0,700.0,197.0,874.0,290.0,385.0,425.0,243.0,220.0,350.0,240.0,325.0,180.0,482.0,306.0,306.0,356.0,306.0,306.0,369.0,462.0,513.0,380.0,345.0,199.0,170.0,230.0,251.0,170.0,227.0,255.0,221.0,253.0,359.0,359.0,339.0,198.0,131.0,138.0,155.0,99.0,212.0,425.0,470.0,450.0,640.0,450.0,640.0,483.0,500.0,603.0,510.0,550.0,107.0,107.0,180.0,485.0,492.0,374.0,306.0,306.0,319.0,215.0,311.0,450.0,782.0,15.0,345.0,345.0,197.0,296.0,296.0,276.0,276.0,296.0,296.0,300.0,296.0,304.0,276.0,246.0,276.0,276.0,271.0,276.0,276.0,276.0,276.0,276.0,276.0,276.0,318.0,304.0,304.0,276.0,276.0,276.0,246.0,276.0,276.0,276.0,276.0,246.0,276.0,315.0,630.0,59.0,63.0,63.0,63.0,63.0,63.0,173.0,63.0,63.0,123.0,123.0,315.0,981.0,63.0,197.0,279.0,800.0,350.0,319.0,350.0,345.0,360.0,240.0,415.0,248.0,315.0,192.0,148.0,789.0,197.0,197.0,192.0,158.0,217.0,207.0,276.0,276.0,276.0,73.0,256.0,123.0,113.0,182.0,158.0,251.0,232.0,295.0,163.0,197.0,187.0,168.0,163.0,128.0,187.0,299.0,463.0,463.0,463.0,192.0,599.0,789.0,138.0,138.0,128.0,143.0,197.0,242.0,138.0,138.0,98.0,71.0,76.0,108.0,276.0,276.0,44.0,163.0,128.0,133.0,296.0,276.0,266.0,276.0,222.0,473.0,245.0,130.0,94.0,69.0,108.0,108.0,148.0,87.0,296.0,493.0,187.0,69.0,108.0,148.0,87.0,473.0,463.0,107.0,107.0,71.0,454.0,450.0,89.0,105.0,145.0,197.0,208.0,34.0,25.0,201.0,503.0,108.0,148.0,238.0,197.0,252.0,43.0,123.0,123.0,123.0,99.0,115.0,201.0,225.0,123.0,34.0,320.0,320.0,252.0,574.0,127.0,227.0,246.0],\"yaxis\":\"y\",\"type\":\"histogram\"},{\"alignmentgroup\":\"True\",\"hovertemplate\":\"torque=%{x}<extra></extra>\",\"legendgroup\":\"\",\"marker\":{\"color\":\"#636efa\"},\"name\":\"\",\"notched\":true,\"offsetgroup\":\"\",\"showlegend\":false,\"x\":[651.0,495.0,180.0,230.0,315.0,314.0,176.0,304.0,284.0,304.0,192.0,181.0,300.0,180.0,294.0,221.0,221.0,480.0,321.0,300.0,265.0,143.0,131.0,201.0,139.0,265.0,760.0,148.0,578.0,511.0,410.0,235.0,542.0,569.0,569.0,1050.0,750.0,570.0,745.0,542.0,126.0,320.0,500.0,750.0,1100.0,1176.0,900.0,900.0,784.0,430.0,530.0,540.0,500.0,500.0,500.0,700.0,440.0,560.0,560.0,650.0,280.0,410.0,400.0,590.0,480.0,280.0,320.0,319.0,350.0,289.0,490.0,392.0,206.0,392.0,85.0,12.0,667.0,216.0,680.0,340.0,200.0,400.0,240.0,225.0,300.0,235.0,500.0,350.0,365.0,370.0,400.0,400.0,500.0,500.0,390.0,480.0,550.0,550.0,520.0,520.0,670.0,676.0,300.0,515.0,365.0,500.0,760.0,1254.0,1254.0,488.0,794.0,746.0,520.0,122.0,515.0,447.0,350.0,569.0,515.0,393.0,440.0,677.0,670.0,302.0,474.0,461.0,400.0,623.0,515.0,623.0,515.0,485.0,542.0,636.0,503.0,818.0,555.0,563.0,440.0,644.0,528.0,310.0,226.0,346.0,30.0,150.0,206.0,568.0,294.0,267.0,250.0,147.0,735.0,262.0,110.0,110.0,100.0,100.0,61.0,103.0,100.0,105.0,50.0,103.0,94.0,94.0,127.0,94.0,94.0,127.0,310.0,664.0,651.0,650.0,181.0,522.0,431.0,470.0,540.0,451.0,608.0,225.0,657.0,576.0,465.0,686.0,500.0,102.0,35.0,30.0,30.0,39.0,164.0,310.0,74.0,164.0,1300.0,623.0,490.0,550.0,546.0,319.0,336.0,195.0,677.0,677.0,456.0,588.0,105.0,637.0,515.0,433.0,521.0,433.0,291.0,610.0,855.0,312.0,764.0,587.0,380.0,711.0,676.0,549.0,677.0,826.0,465.0,465.0,196.0,113.0,166.0,287.0,221.0,206.0,392.0,588.0,135.0,60.0,60.0,60.0,160.0,129.0,121.0,157.0,157.0,157.0,157.0,215.0,160.0,160.0,202.0,202.0,196.0,152.0,157.0,145.0,392.0,218.0,588.0,145.0,119.0,392.0,92.0,121.0,181.0,186.0,186.0,206.0,206.0,119.0,392.0,28.0,392.0,196.0,392.0,29.0,304.0,294.0,294.0,294.0,304.0,304.0,588.0,637.0,304.0,294.0,304.0,304.0,304.0,304.0,304.0,218.0,219.0,219.0,221.0,221.0,221.0,392.0,392.0,588.0,218.0,218.0,221.0,218.0,218.0,218.0,218.0,218.0,218.0,218.0,218.0,218.0,218.0,218.0,218.0,218.0,218.0,45.0,51.0,66.0,392.0,588.0,43.0,29.0,392.0,348.0,520.0,245.0,396.0,245.0,191.0,245.0,510.0,451.0,186.0,363.0,352.0,352.0,142.0,142.0,167.0,353.0,553.0,625.0,523.0,534.0,643.0,644.0,780.0,420.0,625.0,525.0,553.0,679.0,1356.0,2033.0,400.0,310.0,690.0,491.0,361.0,630.0,630.0,540.0,368.0,660.0,670.0,660.0,686.0,660.0,304.0,426.0,451.0,225.0,262.0,340.0,510.0,510.0,510.0,451.0,431.0,451.0,200.0,216.0,245.0,294.0,505.0,461.0,479.0,480.0,510.0,377.0,429.0,429.0,510.0,118.0,786.0,557.0,146.0,168.0,160.0,165.0,181.0,175.0,189.0,168.0,400.0,298.0,400.0,400.0,400.0,108.0,153.0,196.0,174.0,173.0,149.0,219.0,220.0,240.0,240.0,240.0,427.0,94.0,140.0,107.0,490.0,130.0,139.0,140.0,179.0,608.0,637.0,215.0,226.0,215.0,85.0,214.0,24.0,130.0,139.0,127.0,140.0,139.0,137.0,137.0,157.0,157.0,157.0,157.0,157.0,177.0,180.0,179.0,137.0,163.0,142.0,170.0,170.0,137.0,157.0,137.0,163.0,142.0,170.0,170.0,137.0,157.0,157.0,157.0,157.0,157.0,157.0,157.0,157.0,157.0,215.0,379.0,177.0,245.0,270.0,270.0,314.0,294.0,294.0,314.0,294.0,314.0,314.0,294.0,294.0,314.0,294.0,294.0,294.0,294.0,221.0,207.0,221.0,216.0,216.0,163.0,142.0,170.0,170.0,189.0,245.0,274.0,294.0,294.0,294.0,294.0,294.0,294.0,294.0,294.0,651.0,651.0,651.0,657.0,600.0,245.0,274.0,284.0,150.0,800.0,819.0,600.0,530.0,510.0,700.0,460.0,460.0,700.0,570.0,800.0,1000.0,280.0,780.0,780.0,650.0,600.0,666.0,784.0,581.0,588.0,588.0,397.0,426.0,426.0,274.0,274.0,274.0,274.0,274.0,274.0,426.0,426.0,426.0,426.0,343.0,132.0,1014.0,353.0,289.0,277.0,200.0,200.0,200.0,200.0,200.0,186.0,191.0,294.0,142.0,274.0,274.0,274.0,426.0,426.0,426.0,426.0,426.0,441.0,363.0,139.0,216.0,309.0,309.0,309.0,353.0,490.0,400.0,540.0,372.0,372.0,372.0,372.0,372.0,372.0,510.0,382.0,343.0,382.0,392.0,400.0,392.0,421.0,74.0,119.0,167.0,353.0,343.0,92.0,180.0,887.0,887.0,338.0,468.0,372.0,475.0,431.0,274.0,274.0,274.0,235.0,274.0,274.0,206.0,388.0,388.0,388.0,371.0,371.0,363.0,363.0,129.0,147.0,152.0,74.0,686.0,490.0,137.0,106.0,510.0,137.0,588.0,176.0,206.0,365.0,225.0,333.0,388.0,388.0,388.0,363.0,363.0,358.0,363.0,475.0,392.0,588.0,632.0,510.0,588.0,632.0,637.0,637.0,637.0,588.0,689.0,686.0,280.0,121.0,470.0,706.0,134.0,121.0,106.0,847.0,74.0,706.0,686.0,186.0,206.0,206.0,706.0,490.0,784.0,784.0,274.0,132.0,235.0,225.0,274.0,274.0,274.0,225.0,159.0,178.0,188.0,188.0,192.0,274.0,274.0,192.0,113.0,167.0,176.0,363.0,363.0,353.0,353.0,368.0,368.0,368.0,392.0,392.0,392.0,392.0,353.0,368.0,392.0,392.0,353.0,368.0,368.0,368.0,392.0,353.0,392.0,392.0,392.0,368.0,353.0,392.0,245.0,265.0,265.0,225.0,245.0,225.0,176.0,323.0,358.0,353.0,153.0,343.0,368.0,510.0,686.0,735.0,510.0,706.0,510.0,706.0,500.0,280.0,125.0,148.0,203.0,250.0,300.0,426.0,1000.0,1100.0,570.0,750.0,750.0,710.0,600.0,680.0,132.0,142.0,255.0,490.0,440.0,190.0,202.0,535.0,183.0,240.0,190.0,190.0,285.0,343.0,1200.0,1200.0,1200.0,240.0,843.0,467.0,651.0,664.0,271.0,435.0,495.0,305.0,580.0,176.0,648.0,323.0,323.0,469.0,323.0,360.0,480.0,553.0,685.0,375.0,508.0,215.0,203.0,300.0,300.0,203.0,300.0,300.0,300.0,360.0,390.0,390.0,421.0,289.0,191.0,200.0,221.0,117.0,331.0,569.0,637.0,663.0,814.0,663.0,814.0,676.0,712.0,760.0,725.0,714.0,141.0,141.0,245.0,651.0,662.0,461.0,446.0,446.0,393.0,158.0,211.0,480.0,1128.0,29.0,441.0,441.0,205.0,392.0,392.0,363.0,353.0,392.0,470.0,470.0,588.0,421.0,421.0,309.0,394.0,372.0,319.0,343.0,353.0,353.0,353.0,412.0,372.0,353.0,650.0,421.0,421.0,372.0,343.0,343.0,304.0,343.0,343.0,343.0,343.0,304.0,338.0,431.0,490.0,83.0,103.0,103.0,103.0,85.0,103.0,138.0,106.0,106.0,148.0,148.0,588.0,931.0,106.0,188.0,271.0,881.0,447.0,434.0,393.0,393.0,420.0,365.0,600.0,370.0,412.0,196.0,176.0,725.0,205.0,205.0,205.0,200.0,294.0,216.0,431.0,451.0,451.0,111.0,323.0,169.0,142.0,240.0,186.0,304.0,304.0,490.0,191.0,206.0,181.0,235.0,162.0,149.0,180.0,510.0,637.0,637.0,637.0,205.0,650.0,784.0,170.0,170.0,149.0,186.0,206.0,304.0,170.0,170.0,142.0,115.0,115.0,132.0,377.0,429.0,67.0,162.0,149.0,157.0,441.0,363.0,358.0,451.0,284.0,510.0,382.0,170.0,121.0,95.0,143.0,141.0,196.0,123.0,441.0,588.0,180.0,95.0,143.0,196.0,123.0,510.0,637.0,141.0,141.0,112.0,500.0,300.0,125.0,148.0,203.0,250.0,300.0,82.0,67.0,270.0,665.0,137.0,210.0,319.0,280.0,330.0,100.0,140.0,152.0,152.0,126.0,170.0,270.0,319.0,152.0,82.0,340.0,340.0,330.0,620.0,190.0,319.0,330.0],\"xaxis\":\"x2\",\"yaxis\":\"y2\",\"type\":\"box\"}],                        {\"template\":{\"data\":{\"bar\":[{\"error_x\":{\"color\":\"#2a3f5f\"},\"error_y\":{\"color\":\"#2a3f5f\"},\"marker\":{\"line\":{\"color\":\"#E5ECF6\",\"width\":0.5},\"pattern\":{\"fillmode\":\"overlay\",\"size\":10,\"solidity\":0.2}},\"type\":\"bar\"}],\"barpolar\":[{\"marker\":{\"line\":{\"color\":\"#E5ECF6\",\"width\":0.5},\"pattern\":{\"fillmode\":\"overlay\",\"size\":10,\"solidity\":0.2}},\"type\":\"barpolar\"}],\"carpet\":[{\"aaxis\":{\"endlinecolor\":\"#2a3f5f\",\"gridcolor\":\"white\",\"linecolor\":\"white\",\"minorgridcolor\":\"white\",\"startlinecolor\":\"#2a3f5f\"},\"baxis\":{\"endlinecolor\":\"#2a3f5f\",\"gridcolor\":\"white\",\"linecolor\":\"white\",\"minorgridcolor\":\"white\",\"startlinecolor\":\"#2a3f5f\"},\"type\":\"carpet\"}],\"choropleth\":[{\"colorbar\":{\"outlinewidth\":0,\"ticks\":\"\"},\"type\":\"choropleth\"}],\"contour\":[{\"colorbar\":{\"outlinewidth\":0,\"ticks\":\"\"},\"colorscale\":[[0.0,\"#0d0887\"],[0.1111111111111111,\"#46039f\"],[0.2222222222222222,\"#7201a8\"],[0.3333333333333333,\"#9c179e\"],[0.4444444444444444,\"#bd3786\"],[0.5555555555555556,\"#d8576b\"],[0.6666666666666666,\"#ed7953\"],[0.7777777777777778,\"#fb9f3a\"],[0.8888888888888888,\"#fdca26\"],[1.0,\"#f0f921\"]],\"type\":\"contour\"}],\"contourcarpet\":[{\"colorbar\":{\"outlinewidth\":0,\"ticks\":\"\"},\"type\":\"contourcarpet\"}],\"heatmap\":[{\"colorbar\":{\"outlinewidth\":0,\"ticks\":\"\"},\"colorscale\":[[0.0,\"#0d0887\"],[0.1111111111111111,\"#46039f\"],[0.2222222222222222,\"#7201a8\"],[0.3333333333333333,\"#9c179e\"],[0.4444444444444444,\"#bd3786\"],[0.5555555555555556,\"#d8576b\"],[0.6666666666666666,\"#ed7953\"],[0.7777777777777778,\"#fb9f3a\"],[0.8888888888888888,\"#fdca26\"],[1.0,\"#f0f921\"]],\"type\":\"heatmap\"}],\"heatmapgl\":[{\"colorbar\":{\"outlinewidth\":0,\"ticks\":\"\"},\"colorscale\":[[0.0,\"#0d0887\"],[0.1111111111111111,\"#46039f\"],[0.2222222222222222,\"#7201a8\"],[0.3333333333333333,\"#9c179e\"],[0.4444444444444444,\"#bd3786\"],[0.5555555555555556,\"#d8576b\"],[0.6666666666666666,\"#ed7953\"],[0.7777777777777778,\"#fb9f3a\"],[0.8888888888888888,\"#fdca26\"],[1.0,\"#f0f921\"]],\"type\":\"heatmapgl\"}],\"histogram\":[{\"marker\":{\"pattern\":{\"fillmode\":\"overlay\",\"size\":10,\"solidity\":0.2}},\"type\":\"histogram\"}],\"histogram2d\":[{\"colorbar\":{\"outlinewidth\":0,\"ticks\":\"\"},\"colorscale\":[[0.0,\"#0d0887\"],[0.1111111111111111,\"#46039f\"],[0.2222222222222222,\"#7201a8\"],[0.3333333333333333,\"#9c179e\"],[0.4444444444444444,\"#bd3786\"],[0.5555555555555556,\"#d8576b\"],[0.6666666666666666,\"#ed7953\"],[0.7777777777777778,\"#fb9f3a\"],[0.8888888888888888,\"#fdca26\"],[1.0,\"#f0f921\"]],\"type\":\"histogram2d\"}],\"histogram2dcontour\":[{\"colorbar\":{\"outlinewidth\":0,\"ticks\":\"\"},\"colorscale\":[[0.0,\"#0d0887\"],[0.1111111111111111,\"#46039f\"],[0.2222222222222222,\"#7201a8\"],[0.3333333333333333,\"#9c179e\"],[0.4444444444444444,\"#bd3786\"],[0.5555555555555556,\"#d8576b\"],[0.6666666666666666,\"#ed7953\"],[0.7777777777777778,\"#fb9f3a\"],[0.8888888888888888,\"#fdca26\"],[1.0,\"#f0f921\"]],\"type\":\"histogram2dcontour\"}],\"mesh3d\":[{\"colorbar\":{\"outlinewidth\":0,\"ticks\":\"\"},\"type\":\"mesh3d\"}],\"parcoords\":[{\"line\":{\"colorbar\":{\"outlinewidth\":0,\"ticks\":\"\"}},\"type\":\"parcoords\"}],\"pie\":[{\"automargin\":true,\"type\":\"pie\"}],\"scatter\":[{\"marker\":{\"colorbar\":{\"outlinewidth\":0,\"ticks\":\"\"}},\"type\":\"scatter\"}],\"scatter3d\":[{\"line\":{\"colorbar\":{\"outlinewidth\":0,\"ticks\":\"\"}},\"marker\":{\"colorbar\":{\"outlinewidth\":0,\"ticks\":\"\"}},\"type\":\"scatter3d\"}],\"scattercarpet\":[{\"marker\":{\"colorbar\":{\"outlinewidth\":0,\"ticks\":\"\"}},\"type\":\"scattercarpet\"}],\"scattergeo\":[{\"marker\":{\"colorbar\":{\"outlinewidth\":0,\"ticks\":\"\"}},\"type\":\"scattergeo\"}],\"scattergl\":[{\"marker\":{\"colorbar\":{\"outlinewidth\":0,\"ticks\":\"\"}},\"type\":\"scattergl\"}],\"scattermapbox\":[{\"marker\":{\"colorbar\":{\"outlinewidth\":0,\"ticks\":\"\"}},\"type\":\"scattermapbox\"}],\"scatterpolar\":[{\"marker\":{\"colorbar\":{\"outlinewidth\":0,\"ticks\":\"\"}},\"type\":\"scatterpolar\"}],\"scatterpolargl\":[{\"marker\":{\"colorbar\":{\"outlinewidth\":0,\"ticks\":\"\"}},\"type\":\"scatterpolargl\"}],\"scatterternary\":[{\"marker\":{\"colorbar\":{\"outlinewidth\":0,\"ticks\":\"\"}},\"type\":\"scatterternary\"}],\"surface\":[{\"colorbar\":{\"outlinewidth\":0,\"ticks\":\"\"},\"colorscale\":[[0.0,\"#0d0887\"],[0.1111111111111111,\"#46039f\"],[0.2222222222222222,\"#7201a8\"],[0.3333333333333333,\"#9c179e\"],[0.4444444444444444,\"#bd3786\"],[0.5555555555555556,\"#d8576b\"],[0.6666666666666666,\"#ed7953\"],[0.7777777777777778,\"#fb9f3a\"],[0.8888888888888888,\"#fdca26\"],[1.0,\"#f0f921\"]],\"type\":\"surface\"}],\"table\":[{\"cells\":{\"fill\":{\"color\":\"#EBF0F8\"},\"line\":{\"color\":\"white\"}},\"header\":{\"fill\":{\"color\":\"#C8D4E3\"},\"line\":{\"color\":\"white\"}},\"type\":\"table\"}]},\"layout\":{\"annotationdefaults\":{\"arrowcolor\":\"#2a3f5f\",\"arrowhead\":0,\"arrowwidth\":1},\"autotypenumbers\":\"strict\",\"coloraxis\":{\"colorbar\":{\"outlinewidth\":0,\"ticks\":\"\"}},\"colorscale\":{\"diverging\":[[0,\"#8e0152\"],[0.1,\"#c51b7d\"],[0.2,\"#de77ae\"],[0.3,\"#f1b6da\"],[0.4,\"#fde0ef\"],[0.5,\"#f7f7f7\"],[0.6,\"#e6f5d0\"],[0.7,\"#b8e186\"],[0.8,\"#7fbc41\"],[0.9,\"#4d9221\"],[1,\"#276419\"]],\"sequential\":[[0.0,\"#0d0887\"],[0.1111111111111111,\"#46039f\"],[0.2222222222222222,\"#7201a8\"],[0.3333333333333333,\"#9c179e\"],[0.4444444444444444,\"#bd3786\"],[0.5555555555555556,\"#d8576b\"],[0.6666666666666666,\"#ed7953\"],[0.7777777777777778,\"#fb9f3a\"],[0.8888888888888888,\"#fdca26\"],[1.0,\"#f0f921\"]],\"sequentialminus\":[[0.0,\"#0d0887\"],[0.1111111111111111,\"#46039f\"],[0.2222222222222222,\"#7201a8\"],[0.3333333333333333,\"#9c179e\"],[0.4444444444444444,\"#bd3786\"],[0.5555555555555556,\"#d8576b\"],[0.6666666666666666,\"#ed7953\"],[0.7777777777777778,\"#fb9f3a\"],[0.8888888888888888,\"#fdca26\"],[1.0,\"#f0f921\"]]},\"colorway\":[\"#636efa\",\"#EF553B\",\"#00cc96\",\"#ab63fa\",\"#FFA15A\",\"#19d3f3\",\"#FF6692\",\"#B6E880\",\"#FF97FF\",\"#FECB52\"],\"font\":{\"color\":\"#2a3f5f\"},\"geo\":{\"bgcolor\":\"white\",\"lakecolor\":\"white\",\"landcolor\":\"#E5ECF6\",\"showlakes\":true,\"showland\":true,\"subunitcolor\":\"white\"},\"hoverlabel\":{\"align\":\"left\"},\"hovermode\":\"closest\",\"mapbox\":{\"style\":\"light\"},\"paper_bgcolor\":\"white\",\"plot_bgcolor\":\"#E5ECF6\",\"polar\":{\"angularaxis\":{\"gridcolor\":\"white\",\"linecolor\":\"white\",\"ticks\":\"\"},\"bgcolor\":\"#E5ECF6\",\"radialaxis\":{\"gridcolor\":\"white\",\"linecolor\":\"white\",\"ticks\":\"\"}},\"scene\":{\"xaxis\":{\"backgroundcolor\":\"#E5ECF6\",\"gridcolor\":\"white\",\"gridwidth\":2,\"linecolor\":\"white\",\"showbackground\":true,\"ticks\":\"\",\"zerolinecolor\":\"white\"},\"yaxis\":{\"backgroundcolor\":\"#E5ECF6\",\"gridcolor\":\"white\",\"gridwidth\":2,\"linecolor\":\"white\",\"showbackground\":true,\"ticks\":\"\",\"zerolinecolor\":\"white\"},\"zaxis\":{\"backgroundcolor\":\"#E5ECF6\",\"gridcolor\":\"white\",\"gridwidth\":2,\"linecolor\":\"white\",\"showbackground\":true,\"ticks\":\"\",\"zerolinecolor\":\"white\"}},\"shapedefaults\":{\"line\":{\"color\":\"#2a3f5f\"}},\"ternary\":{\"aaxis\":{\"gridcolor\":\"white\",\"linecolor\":\"white\",\"ticks\":\"\"},\"baxis\":{\"gridcolor\":\"white\",\"linecolor\":\"white\",\"ticks\":\"\"},\"bgcolor\":\"#E5ECF6\",\"caxis\":{\"gridcolor\":\"white\",\"linecolor\":\"white\",\"ticks\":\"\"}},\"title\":{\"x\":0.05},\"xaxis\":{\"automargin\":true,\"gridcolor\":\"white\",\"linecolor\":\"white\",\"ticks\":\"\",\"title\":{\"standoff\":15},\"zerolinecolor\":\"white\",\"zerolinewidth\":2},\"yaxis\":{\"automargin\":true,\"gridcolor\":\"white\",\"linecolor\":\"white\",\"ticks\":\"\",\"title\":{\"standoff\":15},\"zerolinecolor\":\"white\",\"zerolinewidth\":2}}},\"xaxis\":{\"anchor\":\"y\",\"domain\":[0.0,1.0],\"title\":{\"text\":\"torque\"}},\"yaxis\":{\"anchor\":\"x\",\"domain\":[0.0,0.8316],\"title\":{\"text\":\"sum of hp\"}},\"xaxis2\":{\"anchor\":\"y2\",\"domain\":[0.0,1.0],\"matches\":\"x\",\"showticklabels\":false,\"showgrid\":true},\"yaxis2\":{\"anchor\":\"x2\",\"domain\":[0.8416,1.0],\"matches\":\"y2\",\"showticklabels\":false,\"showline\":false,\"ticks\":\"\",\"showgrid\":false},\"legend\":{\"tracegroupgap\":0},\"margin\":{\"t\":60},\"barmode\":\"relative\"},                        {\"responsive\": true}                    ).then(function(){\n",
              "                            \n",
              "var gd = document.getElementById('8e338742-2b24-4e04-83b7-3ecf2cac153c');\n",
              "var x = new MutationObserver(function (mutations, observer) {{\n",
              "        var display = window.getComputedStyle(gd).display;\n",
              "        if (!display || display === 'none') {{\n",
              "            console.log([gd, 'removed!']);\n",
              "            Plotly.purge(gd);\n",
              "            observer.disconnect();\n",
              "        }}\n",
              "}});\n",
              "\n",
              "// Listen for the removal of the full notebook cells\n",
              "var notebookContainer = gd.closest('#notebook-container');\n",
              "if (notebookContainer) {{\n",
              "    x.observe(notebookContainer, {childList: true});\n",
              "}}\n",
              "\n",
              "// Listen for the clearing of the current output cell\n",
              "var outputEl = gd.closest('.output');\n",
              "if (outputEl) {{\n",
              "    x.observe(outputEl, {childList: true});\n",
              "}}\n",
              "\n",
              "                        })                };                            </script>        </div>\n",
              "</body>\n",
              "</html>"
            ]
          },
          "metadata": {}
        }
      ],
      "source": [
        "px.histogram(gran_turismo, x='torque', y='hp', marginal=\"box\")"
      ]
    },
    {
      "cell_type": "code",
      "execution_count": 99,
      "id": "7bc69e59",
      "metadata": {
        "id": "7bc69e59",
        "outputId": "c912a88d-9d5b-44e0-c879-ca9fd9e12835",
        "colab": {
          "base_uri": "https://localhost:8080/",
          "height": 542
        }
      },
      "outputs": [
        {
          "output_type": "display_data",
          "data": {
            "text/html": [
              "<html>\n",
              "<head><meta charset=\"utf-8\" /></head>\n",
              "<body>\n",
              "    <div>            <script src=\"https://cdnjs.cloudflare.com/ajax/libs/mathjax/2.7.5/MathJax.js?config=TeX-AMS-MML_SVG\"></script><script type=\"text/javascript\">if (window.MathJax) {MathJax.Hub.Config({SVG: {font: \"STIX-Web\"}});}</script>                <script type=\"text/javascript\">window.PlotlyConfig = {MathJaxConfig: 'local'};</script>\n",
              "        <script src=\"https://cdn.plot.ly/plotly-2.8.3.min.js\"></script>                <div id=\"15b537b6-4b52-47df-98f4-54d5a5020f8b\" class=\"plotly-graph-div\" style=\"height:525px; width:100%;\"></div>            <script type=\"text/javascript\">                                    window.PLOTLYENV=window.PLOTLYENV || {};                                    if (document.getElementById(\"15b537b6-4b52-47df-98f4-54d5a5020f8b\")) {                    Plotly.newPlot(                        \"15b537b6-4b52-47df-98f4-54d5a5020f8b\",                        [{\"coloraxis\":\"coloraxis\",\"name\":\"0\",\"z\":[[1,80,45],[80,1,35],[45,35,1]],\"type\":\"heatmap\",\"xaxis\":\"x\",\"yaxis\":\"y\",\"hovertemplate\":\"x: %{x}<br>y: %{y}<br>color: %{z}<extra></extra>\"}],                        {\"template\":{\"data\":{\"bar\":[{\"error_x\":{\"color\":\"#2a3f5f\"},\"error_y\":{\"color\":\"#2a3f5f\"},\"marker\":{\"line\":{\"color\":\"#E5ECF6\",\"width\":0.5},\"pattern\":{\"fillmode\":\"overlay\",\"size\":10,\"solidity\":0.2}},\"type\":\"bar\"}],\"barpolar\":[{\"marker\":{\"line\":{\"color\":\"#E5ECF6\",\"width\":0.5},\"pattern\":{\"fillmode\":\"overlay\",\"size\":10,\"solidity\":0.2}},\"type\":\"barpolar\"}],\"carpet\":[{\"aaxis\":{\"endlinecolor\":\"#2a3f5f\",\"gridcolor\":\"white\",\"linecolor\":\"white\",\"minorgridcolor\":\"white\",\"startlinecolor\":\"#2a3f5f\"},\"baxis\":{\"endlinecolor\":\"#2a3f5f\",\"gridcolor\":\"white\",\"linecolor\":\"white\",\"minorgridcolor\":\"white\",\"startlinecolor\":\"#2a3f5f\"},\"type\":\"carpet\"}],\"choropleth\":[{\"colorbar\":{\"outlinewidth\":0,\"ticks\":\"\"},\"type\":\"choropleth\"}],\"contour\":[{\"colorbar\":{\"outlinewidth\":0,\"ticks\":\"\"},\"colorscale\":[[0.0,\"#0d0887\"],[0.1111111111111111,\"#46039f\"],[0.2222222222222222,\"#7201a8\"],[0.3333333333333333,\"#9c179e\"],[0.4444444444444444,\"#bd3786\"],[0.5555555555555556,\"#d8576b\"],[0.6666666666666666,\"#ed7953\"],[0.7777777777777778,\"#fb9f3a\"],[0.8888888888888888,\"#fdca26\"],[1.0,\"#f0f921\"]],\"type\":\"contour\"}],\"contourcarpet\":[{\"colorbar\":{\"outlinewidth\":0,\"ticks\":\"\"},\"type\":\"contourcarpet\"}],\"heatmap\":[{\"colorbar\":{\"outlinewidth\":0,\"ticks\":\"\"},\"colorscale\":[[0.0,\"#0d0887\"],[0.1111111111111111,\"#46039f\"],[0.2222222222222222,\"#7201a8\"],[0.3333333333333333,\"#9c179e\"],[0.4444444444444444,\"#bd3786\"],[0.5555555555555556,\"#d8576b\"],[0.6666666666666666,\"#ed7953\"],[0.7777777777777778,\"#fb9f3a\"],[0.8888888888888888,\"#fdca26\"],[1.0,\"#f0f921\"]],\"type\":\"heatmap\"}],\"heatmapgl\":[{\"colorbar\":{\"outlinewidth\":0,\"ticks\":\"\"},\"colorscale\":[[0.0,\"#0d0887\"],[0.1111111111111111,\"#46039f\"],[0.2222222222222222,\"#7201a8\"],[0.3333333333333333,\"#9c179e\"],[0.4444444444444444,\"#bd3786\"],[0.5555555555555556,\"#d8576b\"],[0.6666666666666666,\"#ed7953\"],[0.7777777777777778,\"#fb9f3a\"],[0.8888888888888888,\"#fdca26\"],[1.0,\"#f0f921\"]],\"type\":\"heatmapgl\"}],\"histogram\":[{\"marker\":{\"pattern\":{\"fillmode\":\"overlay\",\"size\":10,\"solidity\":0.2}},\"type\":\"histogram\"}],\"histogram2d\":[{\"colorbar\":{\"outlinewidth\":0,\"ticks\":\"\"},\"colorscale\":[[0.0,\"#0d0887\"],[0.1111111111111111,\"#46039f\"],[0.2222222222222222,\"#7201a8\"],[0.3333333333333333,\"#9c179e\"],[0.4444444444444444,\"#bd3786\"],[0.5555555555555556,\"#d8576b\"],[0.6666666666666666,\"#ed7953\"],[0.7777777777777778,\"#fb9f3a\"],[0.8888888888888888,\"#fdca26\"],[1.0,\"#f0f921\"]],\"type\":\"histogram2d\"}],\"histogram2dcontour\":[{\"colorbar\":{\"outlinewidth\":0,\"ticks\":\"\"},\"colorscale\":[[0.0,\"#0d0887\"],[0.1111111111111111,\"#46039f\"],[0.2222222222222222,\"#7201a8\"],[0.3333333333333333,\"#9c179e\"],[0.4444444444444444,\"#bd3786\"],[0.5555555555555556,\"#d8576b\"],[0.6666666666666666,\"#ed7953\"],[0.7777777777777778,\"#fb9f3a\"],[0.8888888888888888,\"#fdca26\"],[1.0,\"#f0f921\"]],\"type\":\"histogram2dcontour\"}],\"mesh3d\":[{\"colorbar\":{\"outlinewidth\":0,\"ticks\":\"\"},\"type\":\"mesh3d\"}],\"parcoords\":[{\"line\":{\"colorbar\":{\"outlinewidth\":0,\"ticks\":\"\"}},\"type\":\"parcoords\"}],\"pie\":[{\"automargin\":true,\"type\":\"pie\"}],\"scatter\":[{\"marker\":{\"colorbar\":{\"outlinewidth\":0,\"ticks\":\"\"}},\"type\":\"scatter\"}],\"scatter3d\":[{\"line\":{\"colorbar\":{\"outlinewidth\":0,\"ticks\":\"\"}},\"marker\":{\"colorbar\":{\"outlinewidth\":0,\"ticks\":\"\"}},\"type\":\"scatter3d\"}],\"scattercarpet\":[{\"marker\":{\"colorbar\":{\"outlinewidth\":0,\"ticks\":\"\"}},\"type\":\"scattercarpet\"}],\"scattergeo\":[{\"marker\":{\"colorbar\":{\"outlinewidth\":0,\"ticks\":\"\"}},\"type\":\"scattergeo\"}],\"scattergl\":[{\"marker\":{\"colorbar\":{\"outlinewidth\":0,\"ticks\":\"\"}},\"type\":\"scattergl\"}],\"scattermapbox\":[{\"marker\":{\"colorbar\":{\"outlinewidth\":0,\"ticks\":\"\"}},\"type\":\"scattermapbox\"}],\"scatterpolar\":[{\"marker\":{\"colorbar\":{\"outlinewidth\":0,\"ticks\":\"\"}},\"type\":\"scatterpolar\"}],\"scatterpolargl\":[{\"marker\":{\"colorbar\":{\"outlinewidth\":0,\"ticks\":\"\"}},\"type\":\"scatterpolargl\"}],\"scatterternary\":[{\"marker\":{\"colorbar\":{\"outlinewidth\":0,\"ticks\":\"\"}},\"type\":\"scatterternary\"}],\"surface\":[{\"colorbar\":{\"outlinewidth\":0,\"ticks\":\"\"},\"colorscale\":[[0.0,\"#0d0887\"],[0.1111111111111111,\"#46039f\"],[0.2222222222222222,\"#7201a8\"],[0.3333333333333333,\"#9c179e\"],[0.4444444444444444,\"#bd3786\"],[0.5555555555555556,\"#d8576b\"],[0.6666666666666666,\"#ed7953\"],[0.7777777777777778,\"#fb9f3a\"],[0.8888888888888888,\"#fdca26\"],[1.0,\"#f0f921\"]],\"type\":\"surface\"}],\"table\":[{\"cells\":{\"fill\":{\"color\":\"#EBF0F8\"},\"line\":{\"color\":\"white\"}},\"header\":{\"fill\":{\"color\":\"#C8D4E3\"},\"line\":{\"color\":\"white\"}},\"type\":\"table\"}]},\"layout\":{\"annotationdefaults\":{\"arrowcolor\":\"#2a3f5f\",\"arrowhead\":0,\"arrowwidth\":1},\"autotypenumbers\":\"strict\",\"coloraxis\":{\"colorbar\":{\"outlinewidth\":0,\"ticks\":\"\"}},\"colorscale\":{\"diverging\":[[0,\"#8e0152\"],[0.1,\"#c51b7d\"],[0.2,\"#de77ae\"],[0.3,\"#f1b6da\"],[0.4,\"#fde0ef\"],[0.5,\"#f7f7f7\"],[0.6,\"#e6f5d0\"],[0.7,\"#b8e186\"],[0.8,\"#7fbc41\"],[0.9,\"#4d9221\"],[1,\"#276419\"]],\"sequential\":[[0.0,\"#0d0887\"],[0.1111111111111111,\"#46039f\"],[0.2222222222222222,\"#7201a8\"],[0.3333333333333333,\"#9c179e\"],[0.4444444444444444,\"#bd3786\"],[0.5555555555555556,\"#d8576b\"],[0.6666666666666666,\"#ed7953\"],[0.7777777777777778,\"#fb9f3a\"],[0.8888888888888888,\"#fdca26\"],[1.0,\"#f0f921\"]],\"sequentialminus\":[[0.0,\"#0d0887\"],[0.1111111111111111,\"#46039f\"],[0.2222222222222222,\"#7201a8\"],[0.3333333333333333,\"#9c179e\"],[0.4444444444444444,\"#bd3786\"],[0.5555555555555556,\"#d8576b\"],[0.6666666666666666,\"#ed7953\"],[0.7777777777777778,\"#fb9f3a\"],[0.8888888888888888,\"#fdca26\"],[1.0,\"#f0f921\"]]},\"colorway\":[\"#636efa\",\"#EF553B\",\"#00cc96\",\"#ab63fa\",\"#FFA15A\",\"#19d3f3\",\"#FF6692\",\"#B6E880\",\"#FF97FF\",\"#FECB52\"],\"font\":{\"color\":\"#2a3f5f\"},\"geo\":{\"bgcolor\":\"white\",\"lakecolor\":\"white\",\"landcolor\":\"#E5ECF6\",\"showlakes\":true,\"showland\":true,\"subunitcolor\":\"white\"},\"hoverlabel\":{\"align\":\"left\"},\"hovermode\":\"closest\",\"mapbox\":{\"style\":\"light\"},\"paper_bgcolor\":\"white\",\"plot_bgcolor\":\"#E5ECF6\",\"polar\":{\"angularaxis\":{\"gridcolor\":\"white\",\"linecolor\":\"white\",\"ticks\":\"\"},\"bgcolor\":\"#E5ECF6\",\"radialaxis\":{\"gridcolor\":\"white\",\"linecolor\":\"white\",\"ticks\":\"\"}},\"scene\":{\"xaxis\":{\"backgroundcolor\":\"#E5ECF6\",\"gridcolor\":\"white\",\"gridwidth\":2,\"linecolor\":\"white\",\"showbackground\":true,\"ticks\":\"\",\"zerolinecolor\":\"white\"},\"yaxis\":{\"backgroundcolor\":\"#E5ECF6\",\"gridcolor\":\"white\",\"gridwidth\":2,\"linecolor\":\"white\",\"showbackground\":true,\"ticks\":\"\",\"zerolinecolor\":\"white\"},\"zaxis\":{\"backgroundcolor\":\"#E5ECF6\",\"gridcolor\":\"white\",\"gridwidth\":2,\"linecolor\":\"white\",\"showbackground\":true,\"ticks\":\"\",\"zerolinecolor\":\"white\"}},\"shapedefaults\":{\"line\":{\"color\":\"#2a3f5f\"}},\"ternary\":{\"aaxis\":{\"gridcolor\":\"white\",\"linecolor\":\"white\",\"ticks\":\"\"},\"baxis\":{\"gridcolor\":\"white\",\"linecolor\":\"white\",\"ticks\":\"\"},\"bgcolor\":\"#E5ECF6\",\"caxis\":{\"gridcolor\":\"white\",\"linecolor\":\"white\",\"ticks\":\"\"}},\"title\":{\"x\":0.05},\"xaxis\":{\"automargin\":true,\"gridcolor\":\"white\",\"linecolor\":\"white\",\"ticks\":\"\",\"title\":{\"standoff\":15},\"zerolinecolor\":\"white\",\"zerolinewidth\":2},\"yaxis\":{\"automargin\":true,\"gridcolor\":\"white\",\"linecolor\":\"white\",\"ticks\":\"\",\"title\":{\"standoff\":15},\"zerolinecolor\":\"white\",\"zerolinewidth\":2}}},\"xaxis\":{\"anchor\":\"y\",\"domain\":[0.0,1.0],\"scaleanchor\":\"y\",\"constrain\":\"domain\"},\"yaxis\":{\"anchor\":\"x\",\"domain\":[0.0,1.0],\"autorange\":\"reversed\",\"constrain\":\"domain\"},\"coloraxis\":{\"colorscale\":[[0.0,\"#0d0887\"],[0.1111111111111111,\"#46039f\"],[0.2222222222222222,\"#7201a8\"],[0.3333333333333333,\"#9c179e\"],[0.4444444444444444,\"#bd3786\"],[0.5555555555555556,\"#d8576b\"],[0.6666666666666666,\"#ed7953\"],[0.7777777777777778,\"#fb9f3a\"],[0.8888888888888888,\"#fdca26\"],[1.0,\"#f0f921\"]]},\"margin\":{\"t\":60}},                        {\"responsive\": true}                    ).then(function(){\n",
              "                            \n",
              "var gd = document.getElementById('15b537b6-4b52-47df-98f4-54d5a5020f8b');\n",
              "var x = new MutationObserver(function (mutations, observer) {{\n",
              "        var display = window.getComputedStyle(gd).display;\n",
              "        if (!display || display === 'none') {{\n",
              "            console.log([gd, 'removed!']);\n",
              "            Plotly.purge(gd);\n",
              "            observer.disconnect();\n",
              "        }}\n",
              "}});\n",
              "\n",
              "// Listen for the removal of the full notebook cells\n",
              "var notebookContainer = gd.closest('#notebook-container');\n",
              "if (notebookContainer) {{\n",
              "    x.observe(notebookContainer, {childList: true});\n",
              "}}\n",
              "\n",
              "// Listen for the clearing of the current output cell\n",
              "var outputEl = gd.closest('.output');\n",
              "if (outputEl) {{\n",
              "    x.observe(outputEl, {childList: true});\n",
              "}}\n",
              "\n",
              "                        })                };                            </script>        </div>\n",
              "</body>\n",
              "</html>"
            ]
          },
          "metadata": {}
        }
      ],
      "source": [
        "px.imshow([[1, 80, 45],\n",
        "           [80, 1, 35],\n",
        "           [45, 35, 1]])"
      ]
    }
  ],
  "metadata": {
    "kernelspec": {
      "display_name": "Python 3 (ipykernel)",
      "language": "python",
      "name": "python3"
    },
    "language_info": {
      "codemirror_mode": {
        "name": "ipython",
        "version": 3
      },
      "file_extension": ".py",
      "mimetype": "text/x-python",
      "name": "python",
      "nbconvert_exporter": "python",
      "pygments_lexer": "ipython3",
      "version": "3.8.5"
    },
    "colab": {
      "name": "Lab_2_visual_6133_Korshikov_VI.ipynb",
      "provenance": []
    }
  },
  "nbformat": 4,
  "nbformat_minor": 5
}